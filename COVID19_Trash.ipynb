{
 "cells": [
  {
   "cell_type": "markdown",
   "metadata": {},
   "source": [
    "# 필요 라이브러리 불러오기"
   ]
  },
  {
   "cell_type": "code",
   "execution_count": 1,
   "metadata": {},
   "outputs": [],
   "source": [
    "import pandas as pd\n",
    "import numpy as np\n",
    "import seaborn as sns\n",
    "import matplotlib.pyplot as plt\n",
    "import matplotlib.dates as mdates\n",
    "import math\n",
    "from datetime import date, timedelta\n",
    "\n",
    "import warnings\n",
    "warnings.filterwarnings(\"ignore\")\n",
    "\n",
    "# 한글 폰트 불러오기\n",
    "%matplotlib inline\n",
    "import matplotlib.font_manager as fm\n",
    "font_path = 'C:/Users/sgi40/NanumFontSetup_TTF_ALL/NanumBarunGothic.ttf'\n",
    "font_name = fm.FontProperties(fname=font_path).get_name()\n",
    "plt.rc('font', family=font_name)\n",
    "font_name\n",
    "\n",
    "# 한글 문제 대응하기\n",
    "import matplotlib as mpl\n",
    "%config InlineBackend.figure_format = 'retina'\n",
    "font = fm.FontProperties(fname=font_path, size=9)\n",
    "plt.rc('font', family='Malgun Gothic') \n",
    "mpl.font_manager._rebuild()\n",
    "\n",
    "#Plotly 활용 준비\n",
    "import plotly\n",
    "import plotly.graph_objs as go\n",
    "from plotly import tools\n",
    "from plotly.offline import download_plotlyjs, init_notebook_mode, plot, iplot\n",
    "import matplotlib.animation as animation\n",
    "from IPython.display import set_matplotlib_formats\n",
    "set_matplotlib_formats(\"retina\")"
   ]
  },
  {
   "cell_type": "markdown",
   "metadata": {},
   "source": [
    "# 재택지수 데이터 파악"
   ]
  },
  {
   "cell_type": "markdown",
   "metadata": {},
   "source": [
    "## 데이터 형태 파악"
   ]
  },
  {
   "cell_type": "code",
   "execution_count": 2,
   "metadata": {},
   "outputs": [
    {
     "data": {
      "text/html": [
       "<div>\n",
       "<style scoped>\n",
       "    .dataframe tbody tr th:only-of-type {\n",
       "        vertical-align: middle;\n",
       "    }\n",
       "\n",
       "    .dataframe tbody tr th {\n",
       "        vertical-align: top;\n",
       "    }\n",
       "\n",
       "    .dataframe thead th {\n",
       "        text-align: right;\n",
       "    }\n",
       "</style>\n",
       "<table border=\"1\" class=\"dataframe\">\n",
       "  <thead>\n",
       "    <tr style=\"text-align: right;\">\n",
       "      <th></th>\n",
       "      <th>dt</th>\n",
       "      <th>age_cd</th>\n",
       "      <th>sex_cd</th>\n",
       "      <th>home_sido_nm</th>\n",
       "      <th>h0d0h0_dur_r</th>\n",
       "      <th>h0d0h1_dur_r</th>\n",
       "      <th>h0d1h0_dur_r</th>\n",
       "      <th>h0d1h1_dur_r</th>\n",
       "      <th>h1d0h0_dur_r</th>\n",
       "      <th>h1d0h1_dur_r</th>\n",
       "      <th>h1d1h0_dur_r</th>\n",
       "      <th>h1d1h1_dur_r</th>\n",
       "    </tr>\n",
       "  </thead>\n",
       "  <tbody>\n",
       "    <tr>\n",
       "      <th>0</th>\n",
       "      <td>20181029</td>\n",
       "      <td>NaN</td>\n",
       "      <td>NaN</td>\n",
       "      <td>경상남도</td>\n",
       "      <td>0.166836</td>\n",
       "      <td>0.833054</td>\n",
       "      <td>0.467698</td>\n",
       "      <td>0.532190</td>\n",
       "      <td>0.203548</td>\n",
       "      <td>0.795637</td>\n",
       "      <td>0.407189</td>\n",
       "      <td>0.591995</td>\n",
       "    </tr>\n",
       "    <tr>\n",
       "      <th>1</th>\n",
       "      <td>20181029</td>\n",
       "      <td>NaN</td>\n",
       "      <td>NaN</td>\n",
       "      <td>전라북도</td>\n",
       "      <td>0.174534</td>\n",
       "      <td>0.825149</td>\n",
       "      <td>0.471113</td>\n",
       "      <td>0.528571</td>\n",
       "      <td>0.204232</td>\n",
       "      <td>0.793462</td>\n",
       "      <td>0.408986</td>\n",
       "      <td>0.588710</td>\n",
       "    </tr>\n",
       "    <tr>\n",
       "      <th>2</th>\n",
       "      <td>20181029</td>\n",
       "      <td>NaN</td>\n",
       "      <td>NaN</td>\n",
       "      <td>전라남도</td>\n",
       "      <td>0.173301</td>\n",
       "      <td>0.826440</td>\n",
       "      <td>0.461816</td>\n",
       "      <td>0.537923</td>\n",
       "      <td>0.210939</td>\n",
       "      <td>0.787248</td>\n",
       "      <td>0.416458</td>\n",
       "      <td>0.581742</td>\n",
       "    </tr>\n",
       "    <tr>\n",
       "      <th>3</th>\n",
       "      <td>20181029</td>\n",
       "      <td>NaN</td>\n",
       "      <td>NaN</td>\n",
       "      <td>충청남도</td>\n",
       "      <td>0.175661</td>\n",
       "      <td>0.823899</td>\n",
       "      <td>0.475354</td>\n",
       "      <td>0.524204</td>\n",
       "      <td>0.239265</td>\n",
       "      <td>0.758896</td>\n",
       "      <td>0.427152</td>\n",
       "      <td>0.571001</td>\n",
       "    </tr>\n",
       "    <tr>\n",
       "      <th>4</th>\n",
       "      <td>20181029</td>\n",
       "      <td>NaN</td>\n",
       "      <td>NaN</td>\n",
       "      <td>NaN</td>\n",
       "      <td>0.169477</td>\n",
       "      <td>0.830302</td>\n",
       "      <td>0.484912</td>\n",
       "      <td>0.514864</td>\n",
       "      <td>0.197705</td>\n",
       "      <td>0.801207</td>\n",
       "      <td>0.388608</td>\n",
       "      <td>0.610308</td>\n",
       "    </tr>\n",
       "  </tbody>\n",
       "</table>\n",
       "</div>"
      ],
      "text/plain": [
       "         dt  age_cd  sex_cd home_sido_nm  h0d0h0_dur_r  h0d0h1_dur_r  \\\n",
       "0  20181029     NaN     NaN         경상남도      0.166836      0.833054   \n",
       "1  20181029     NaN     NaN         전라북도      0.174534      0.825149   \n",
       "2  20181029     NaN     NaN         전라남도      0.173301      0.826440   \n",
       "3  20181029     NaN     NaN         충청남도      0.175661      0.823899   \n",
       "4  20181029     NaN     NaN          NaN      0.169477      0.830302   \n",
       "\n",
       "   h0d1h0_dur_r  h0d1h1_dur_r  h1d0h0_dur_r  h1d0h1_dur_r  h1d1h0_dur_r  \\\n",
       "0      0.467698      0.532190      0.203548      0.795637      0.407189   \n",
       "1      0.471113      0.528571      0.204232      0.793462      0.408986   \n",
       "2      0.461816      0.537923      0.210939      0.787248      0.416458   \n",
       "3      0.475354      0.524204      0.239265      0.758896      0.427152   \n",
       "4      0.484912      0.514864      0.197705      0.801207      0.388608   \n",
       "\n",
       "   h1d1h1_dur_r  \n",
       "0      0.591995  \n",
       "1      0.588710  \n",
       "2      0.581742  \n",
       "3      0.571001  \n",
       "4      0.610308  "
      ]
     },
     "execution_count": 2,
     "metadata": {},
     "output_type": "execute_result"
    }
   ],
   "source": [
    "working_home = pd.read_csv('data/Working_Home_Idx.csv')\n",
    "working_home.head()"
   ]
  },
  {
   "cell_type": "markdown",
   "metadata": {},
   "source": [
    "## 열 조회 및 열의 자료 수, 자료형, 누락값 여부 확인"
   ]
  },
  {
   "cell_type": "code",
   "execution_count": 3,
   "metadata": {},
   "outputs": [
    {
     "name": "stdout",
     "output_type": "stream",
     "text": [
      "<class 'pandas.core.frame.DataFrame'>\n",
      "RangeIndex: 2772 entries, 0 to 2771\n",
      "Data columns (total 12 columns):\n",
      " #   Column        Non-Null Count  Dtype  \n",
      "---  ------        --------------  -----  \n",
      " 0   dt            2772 non-null   int64  \n",
      " 1   age_cd        792 non-null    float64\n",
      " 2   sex_cd        198 non-null    float64\n",
      " 3   home_sido_nm  1683 non-null   object \n",
      " 4   h0d0h0_dur_r  2772 non-null   float64\n",
      " 5   h0d0h1_dur_r  2772 non-null   float64\n",
      " 6   h0d1h0_dur_r  2772 non-null   float64\n",
      " 7   h0d1h1_dur_r  2772 non-null   float64\n",
      " 8   h1d0h0_dur_r  2772 non-null   float64\n",
      " 9   h1d0h1_dur_r  2772 non-null   float64\n",
      " 10  h1d1h0_dur_r  2772 non-null   float64\n",
      " 11  h1d1h1_dur_r  2772 non-null   float64\n",
      "dtypes: float64(10), int64(1), object(1)\n",
      "memory usage: 260.0+ KB\n"
     ]
    }
   ],
   "source": [
    "working_home.info()"
   ]
  },
  {
   "cell_type": "markdown",
   "metadata": {},
   "source": [
    "# 주간 평균 값을 담은 행들만으로 데이터프레임 재구성"
   ]
  },
  {
   "cell_type": "code",
   "execution_count": 4,
   "metadata": {},
   "outputs": [
    {
     "data": {
      "text/html": [
       "<div>\n",
       "<style scoped>\n",
       "    .dataframe tbody tr th:only-of-type {\n",
       "        vertical-align: middle;\n",
       "    }\n",
       "\n",
       "    .dataframe tbody tr th {\n",
       "        vertical-align: top;\n",
       "    }\n",
       "\n",
       "    .dataframe thead th {\n",
       "        text-align: right;\n",
       "    }\n",
       "</style>\n",
       "<table border=\"1\" class=\"dataframe\">\n",
       "  <thead>\n",
       "    <tr style=\"text-align: right;\">\n",
       "      <th></th>\n",
       "      <th>dt</th>\n",
       "      <th>age_cd</th>\n",
       "      <th>sex_cd</th>\n",
       "      <th>home_sido_nm</th>\n",
       "      <th>h0d0h0_dur_r</th>\n",
       "      <th>h0d0h1_dur_r</th>\n",
       "      <th>h0d1h0_dur_r</th>\n",
       "      <th>h0d1h1_dur_r</th>\n",
       "      <th>h1d0h0_dur_r</th>\n",
       "      <th>h1d0h1_dur_r</th>\n",
       "      <th>h1d1h0_dur_r</th>\n",
       "      <th>h1d1h1_dur_r</th>\n",
       "    </tr>\n",
       "  </thead>\n",
       "  <tbody>\n",
       "    <tr>\n",
       "      <th>4</th>\n",
       "      <td>20181029</td>\n",
       "      <td>NaN</td>\n",
       "      <td>NaN</td>\n",
       "      <td>NaN</td>\n",
       "      <td>0.169477</td>\n",
       "      <td>0.830302</td>\n",
       "      <td>0.484912</td>\n",
       "      <td>0.514864</td>\n",
       "      <td>0.197705</td>\n",
       "      <td>0.801207</td>\n",
       "      <td>0.388608</td>\n",
       "      <td>0.610308</td>\n",
       "    </tr>\n",
       "    <tr>\n",
       "      <th>39</th>\n",
       "      <td>20181105</td>\n",
       "      <td>NaN</td>\n",
       "      <td>NaN</td>\n",
       "      <td>NaN</td>\n",
       "      <td>0.167393</td>\n",
       "      <td>0.831570</td>\n",
       "      <td>0.478517</td>\n",
       "      <td>0.520444</td>\n",
       "      <td>0.193548</td>\n",
       "      <td>0.806157</td>\n",
       "      <td>0.375405</td>\n",
       "      <td>0.624302</td>\n",
       "    </tr>\n",
       "    <tr>\n",
       "      <th>80</th>\n",
       "      <td>20181112</td>\n",
       "      <td>NaN</td>\n",
       "      <td>NaN</td>\n",
       "      <td>NaN</td>\n",
       "      <td>0.168209</td>\n",
       "      <td>0.831380</td>\n",
       "      <td>0.479196</td>\n",
       "      <td>0.520392</td>\n",
       "      <td>0.196675</td>\n",
       "      <td>0.803020</td>\n",
       "      <td>0.378299</td>\n",
       "      <td>0.621397</td>\n",
       "    </tr>\n",
       "    <tr>\n",
       "      <th>94</th>\n",
       "      <td>20181119</td>\n",
       "      <td>NaN</td>\n",
       "      <td>NaN</td>\n",
       "      <td>NaN</td>\n",
       "      <td>0.167206</td>\n",
       "      <td>0.832517</td>\n",
       "      <td>0.477306</td>\n",
       "      <td>0.522416</td>\n",
       "      <td>0.191222</td>\n",
       "      <td>0.808450</td>\n",
       "      <td>0.357341</td>\n",
       "      <td>0.642333</td>\n",
       "    </tr>\n",
       "    <tr>\n",
       "      <th>129</th>\n",
       "      <td>20181126</td>\n",
       "      <td>NaN</td>\n",
       "      <td>NaN</td>\n",
       "      <td>NaN</td>\n",
       "      <td>0.167841</td>\n",
       "      <td>0.831863</td>\n",
       "      <td>0.477450</td>\n",
       "      <td>0.522253</td>\n",
       "      <td>0.189658</td>\n",
       "      <td>0.809217</td>\n",
       "      <td>0.360841</td>\n",
       "      <td>0.638037</td>\n",
       "    </tr>\n",
       "    <tr>\n",
       "      <th>...</th>\n",
       "      <td>...</td>\n",
       "      <td>...</td>\n",
       "      <td>...</td>\n",
       "      <td>...</td>\n",
       "      <td>...</td>\n",
       "      <td>...</td>\n",
       "      <td>...</td>\n",
       "      <td>...</td>\n",
       "      <td>...</td>\n",
       "      <td>...</td>\n",
       "      <td>...</td>\n",
       "      <td>...</td>\n",
       "    </tr>\n",
       "    <tr>\n",
       "      <th>2633</th>\n",
       "      <td>20200817</td>\n",
       "      <td>NaN</td>\n",
       "      <td>NaN</td>\n",
       "      <td>NaN</td>\n",
       "      <td>0.164157</td>\n",
       "      <td>0.835696</td>\n",
       "      <td>0.428228</td>\n",
       "      <td>0.571625</td>\n",
       "      <td>0.164748</td>\n",
       "      <td>0.835187</td>\n",
       "      <td>0.304974</td>\n",
       "      <td>0.694960</td>\n",
       "    </tr>\n",
       "    <tr>\n",
       "      <th>2681</th>\n",
       "      <td>20200824</td>\n",
       "      <td>NaN</td>\n",
       "      <td>NaN</td>\n",
       "      <td>NaN</td>\n",
       "      <td>0.146649</td>\n",
       "      <td>0.853237</td>\n",
       "      <td>0.403955</td>\n",
       "      <td>0.595931</td>\n",
       "      <td>0.148492</td>\n",
       "      <td>0.851268</td>\n",
       "      <td>0.268423</td>\n",
       "      <td>0.731337</td>\n",
       "    </tr>\n",
       "    <tr>\n",
       "      <th>2688</th>\n",
       "      <td>20200831</td>\n",
       "      <td>NaN</td>\n",
       "      <td>NaN</td>\n",
       "      <td>NaN</td>\n",
       "      <td>0.141435</td>\n",
       "      <td>0.858467</td>\n",
       "      <td>0.399269</td>\n",
       "      <td>0.600633</td>\n",
       "      <td>0.149267</td>\n",
       "      <td>0.850167</td>\n",
       "      <td>0.275415</td>\n",
       "      <td>0.724018</td>\n",
       "    </tr>\n",
       "    <tr>\n",
       "      <th>2733</th>\n",
       "      <td>20200907</td>\n",
       "      <td>NaN</td>\n",
       "      <td>NaN</td>\n",
       "      <td>NaN</td>\n",
       "      <td>0.143690</td>\n",
       "      <td>0.855593</td>\n",
       "      <td>0.404244</td>\n",
       "      <td>0.595038</td>\n",
       "      <td>0.158167</td>\n",
       "      <td>0.841622</td>\n",
       "      <td>0.296118</td>\n",
       "      <td>0.703672</td>\n",
       "    </tr>\n",
       "    <tr>\n",
       "      <th>2744</th>\n",
       "      <td>20200914</td>\n",
       "      <td>NaN</td>\n",
       "      <td>NaN</td>\n",
       "      <td>NaN</td>\n",
       "      <td>0.150234</td>\n",
       "      <td>0.849636</td>\n",
       "      <td>0.424249</td>\n",
       "      <td>0.575621</td>\n",
       "      <td>0.164736</td>\n",
       "      <td>0.835069</td>\n",
       "      <td>0.318531</td>\n",
       "      <td>0.681273</td>\n",
       "    </tr>\n",
       "  </tbody>\n",
       "</table>\n",
       "<p>99 rows × 12 columns</p>\n",
       "</div>"
      ],
      "text/plain": [
       "            dt  age_cd  sex_cd home_sido_nm  h0d0h0_dur_r  h0d0h1_dur_r  \\\n",
       "4     20181029     NaN     NaN          NaN      0.169477      0.830302   \n",
       "39    20181105     NaN     NaN          NaN      0.167393      0.831570   \n",
       "80    20181112     NaN     NaN          NaN      0.168209      0.831380   \n",
       "94    20181119     NaN     NaN          NaN      0.167206      0.832517   \n",
       "129   20181126     NaN     NaN          NaN      0.167841      0.831863   \n",
       "...        ...     ...     ...          ...           ...           ...   \n",
       "2633  20200817     NaN     NaN          NaN      0.164157      0.835696   \n",
       "2681  20200824     NaN     NaN          NaN      0.146649      0.853237   \n",
       "2688  20200831     NaN     NaN          NaN      0.141435      0.858467   \n",
       "2733  20200907     NaN     NaN          NaN      0.143690      0.855593   \n",
       "2744  20200914     NaN     NaN          NaN      0.150234      0.849636   \n",
       "\n",
       "      h0d1h0_dur_r  h0d1h1_dur_r  h1d0h0_dur_r  h1d0h1_dur_r  h1d1h0_dur_r  \\\n",
       "4         0.484912      0.514864      0.197705      0.801207      0.388608   \n",
       "39        0.478517      0.520444      0.193548      0.806157      0.375405   \n",
       "80        0.479196      0.520392      0.196675      0.803020      0.378299   \n",
       "94        0.477306      0.522416      0.191222      0.808450      0.357341   \n",
       "129       0.477450      0.522253      0.189658      0.809217      0.360841   \n",
       "...            ...           ...           ...           ...           ...   \n",
       "2633      0.428228      0.571625      0.164748      0.835187      0.304974   \n",
       "2681      0.403955      0.595931      0.148492      0.851268      0.268423   \n",
       "2688      0.399269      0.600633      0.149267      0.850167      0.275415   \n",
       "2733      0.404244      0.595038      0.158167      0.841622      0.296118   \n",
       "2744      0.424249      0.575621      0.164736      0.835069      0.318531   \n",
       "\n",
       "      h1d1h1_dur_r  \n",
       "4         0.610308  \n",
       "39        0.624302  \n",
       "80        0.621397  \n",
       "94        0.642333  \n",
       "129       0.638037  \n",
       "...            ...  \n",
       "2633      0.694960  \n",
       "2681      0.731337  \n",
       "2688      0.724018  \n",
       "2733      0.703672  \n",
       "2744      0.681273  \n",
       "\n",
       "[99 rows x 12 columns]"
      ]
     },
     "execution_count": 4,
     "metadata": {},
     "output_type": "execute_result"
    }
   ],
   "source": [
    "#연령별, 성별, 시도별 행이 모두 NaN 인 행들만 추출\n",
    "home_weekly = working_home[(working_home['age_cd'].isnull()) & (working_home['sex_cd'].isnull()) & (working_home['home_sido_nm'].isnull())]\n",
    "home_weekly"
   ]
  },
  {
   "cell_type": "markdown",
   "metadata": {},
   "source": [
    "# 필요 열만 추출"
   ]
  },
  {
   "cell_type": "code",
   "execution_count": 5,
   "metadata": {},
   "outputs": [
    {
     "data": {
      "text/plain": [
       "Index(['dt', 'age_cd', 'sex_cd', 'home_sido_nm', 'h0d0h0_dur_r',\n",
       "       'h0d0h1_dur_r', 'h0d1h0_dur_r', 'h0d1h1_dur_r', 'h1d0h0_dur_r',\n",
       "       'h1d0h1_dur_r', 'h1d1h0_dur_r', 'h1d1h1_dur_r'],\n",
       "      dtype='object')"
      ]
     },
     "execution_count": 5,
     "metadata": {},
     "output_type": "execute_result"
    }
   ],
   "source": [
    "home_weekly.columns"
   ]
  },
  {
   "cell_type": "code",
   "execution_count": 6,
   "metadata": {},
   "outputs": [
    {
     "data": {
      "text/html": [
       "<div>\n",
       "<style scoped>\n",
       "    .dataframe tbody tr th:only-of-type {\n",
       "        vertical-align: middle;\n",
       "    }\n",
       "\n",
       "    .dataframe tbody tr th {\n",
       "        vertical-align: top;\n",
       "    }\n",
       "\n",
       "    .dataframe thead th {\n",
       "        text-align: right;\n",
       "    }\n",
       "</style>\n",
       "<table border=\"1\" class=\"dataframe\">\n",
       "  <thead>\n",
       "    <tr style=\"text-align: right;\">\n",
       "      <th></th>\n",
       "      <th>dt</th>\n",
       "      <th>h0d0h1_dur_r</th>\n",
       "      <th>h0d1h1_dur_r</th>\n",
       "      <th>h1d0h1_dur_r</th>\n",
       "      <th>h1d1h1_dur_r</th>\n",
       "    </tr>\n",
       "  </thead>\n",
       "  <tbody>\n",
       "    <tr>\n",
       "      <th>4</th>\n",
       "      <td>20181029</td>\n",
       "      <td>0.830302</td>\n",
       "      <td>0.514864</td>\n",
       "      <td>0.801207</td>\n",
       "      <td>0.610308</td>\n",
       "    </tr>\n",
       "    <tr>\n",
       "      <th>39</th>\n",
       "      <td>20181105</td>\n",
       "      <td>0.831570</td>\n",
       "      <td>0.520444</td>\n",
       "      <td>0.806157</td>\n",
       "      <td>0.624302</td>\n",
       "    </tr>\n",
       "    <tr>\n",
       "      <th>80</th>\n",
       "      <td>20181112</td>\n",
       "      <td>0.831380</td>\n",
       "      <td>0.520392</td>\n",
       "      <td>0.803020</td>\n",
       "      <td>0.621397</td>\n",
       "    </tr>\n",
       "    <tr>\n",
       "      <th>94</th>\n",
       "      <td>20181119</td>\n",
       "      <td>0.832517</td>\n",
       "      <td>0.522416</td>\n",
       "      <td>0.808450</td>\n",
       "      <td>0.642333</td>\n",
       "    </tr>\n",
       "    <tr>\n",
       "      <th>129</th>\n",
       "      <td>20181126</td>\n",
       "      <td>0.831863</td>\n",
       "      <td>0.522253</td>\n",
       "      <td>0.809217</td>\n",
       "      <td>0.638037</td>\n",
       "    </tr>\n",
       "    <tr>\n",
       "      <th>...</th>\n",
       "      <td>...</td>\n",
       "      <td>...</td>\n",
       "      <td>...</td>\n",
       "      <td>...</td>\n",
       "      <td>...</td>\n",
       "    </tr>\n",
       "    <tr>\n",
       "      <th>2633</th>\n",
       "      <td>20200817</td>\n",
       "      <td>0.835696</td>\n",
       "      <td>0.571625</td>\n",
       "      <td>0.835187</td>\n",
       "      <td>0.694960</td>\n",
       "    </tr>\n",
       "    <tr>\n",
       "      <th>2681</th>\n",
       "      <td>20200824</td>\n",
       "      <td>0.853237</td>\n",
       "      <td>0.595931</td>\n",
       "      <td>0.851268</td>\n",
       "      <td>0.731337</td>\n",
       "    </tr>\n",
       "    <tr>\n",
       "      <th>2688</th>\n",
       "      <td>20200831</td>\n",
       "      <td>0.858467</td>\n",
       "      <td>0.600633</td>\n",
       "      <td>0.850167</td>\n",
       "      <td>0.724018</td>\n",
       "    </tr>\n",
       "    <tr>\n",
       "      <th>2733</th>\n",
       "      <td>20200907</td>\n",
       "      <td>0.855593</td>\n",
       "      <td>0.595038</td>\n",
       "      <td>0.841622</td>\n",
       "      <td>0.703672</td>\n",
       "    </tr>\n",
       "    <tr>\n",
       "      <th>2744</th>\n",
       "      <td>20200914</td>\n",
       "      <td>0.849636</td>\n",
       "      <td>0.575621</td>\n",
       "      <td>0.835069</td>\n",
       "      <td>0.681273</td>\n",
       "    </tr>\n",
       "  </tbody>\n",
       "</table>\n",
       "<p>99 rows × 5 columns</p>\n",
       "</div>"
      ],
      "text/plain": [
       "            dt  h0d0h1_dur_r  h0d1h1_dur_r  h1d0h1_dur_r  h1d1h1_dur_r\n",
       "4     20181029      0.830302      0.514864      0.801207      0.610308\n",
       "39    20181105      0.831570      0.520444      0.806157      0.624302\n",
       "80    20181112      0.831380      0.520392      0.803020      0.621397\n",
       "94    20181119      0.832517      0.522416      0.808450      0.642333\n",
       "129   20181126      0.831863      0.522253      0.809217      0.638037\n",
       "...        ...           ...           ...           ...           ...\n",
       "2633  20200817      0.835696      0.571625      0.835187      0.694960\n",
       "2681  20200824      0.853237      0.595931      0.851268      0.731337\n",
       "2688  20200831      0.858467      0.600633      0.850167      0.724018\n",
       "2733  20200907      0.855593      0.595038      0.841622      0.703672\n",
       "2744  20200914      0.849636      0.575621      0.835069      0.681273\n",
       "\n",
       "[99 rows x 5 columns]"
      ]
     },
     "execution_count": 6,
     "metadata": {},
     "output_type": "execute_result"
    }
   ],
   "source": [
    "home_weekly = home_weekly.drop(['age_cd', 'sex_cd', 'home_sido_nm'], axis = 1)\n",
    "for idx, col_nm in enumerate(home_weekly.columns):\n",
    "    if idx%2 == 1:\n",
    "        home_weekly = home_weekly.drop(col_nm, axis = 1)\n",
    "home_weekly"
   ]
  },
  {
   "cell_type": "markdown",
   "metadata": {},
   "source": [
    "## 열이름 재지정"
   ]
  },
  {
   "cell_type": "code",
   "execution_count": 7,
   "metadata": {},
   "outputs": [
    {
     "data": {
      "text/html": [
       "<div>\n",
       "<style scoped>\n",
       "    .dataframe tbody tr th:only-of-type {\n",
       "        vertical-align: middle;\n",
       "    }\n",
       "\n",
       "    .dataframe tbody tr th {\n",
       "        vertical-align: top;\n",
       "    }\n",
       "\n",
       "    .dataframe thead th {\n",
       "        text-align: right;\n",
       "    }\n",
       "</style>\n",
       "<table border=\"1\" class=\"dataframe\">\n",
       "  <thead>\n",
       "    <tr style=\"text-align: right;\">\n",
       "      <th></th>\n",
       "      <th>dt</th>\n",
       "      <th>normal_night</th>\n",
       "      <th>normal_day</th>\n",
       "      <th>end_night</th>\n",
       "      <th>end_day</th>\n",
       "    </tr>\n",
       "  </thead>\n",
       "  <tbody>\n",
       "    <tr>\n",
       "      <th>4</th>\n",
       "      <td>20181029</td>\n",
       "      <td>0.830302</td>\n",
       "      <td>0.514864</td>\n",
       "      <td>0.801207</td>\n",
       "      <td>0.610308</td>\n",
       "    </tr>\n",
       "    <tr>\n",
       "      <th>39</th>\n",
       "      <td>20181105</td>\n",
       "      <td>0.831570</td>\n",
       "      <td>0.520444</td>\n",
       "      <td>0.806157</td>\n",
       "      <td>0.624302</td>\n",
       "    </tr>\n",
       "    <tr>\n",
       "      <th>80</th>\n",
       "      <td>20181112</td>\n",
       "      <td>0.831380</td>\n",
       "      <td>0.520392</td>\n",
       "      <td>0.803020</td>\n",
       "      <td>0.621397</td>\n",
       "    </tr>\n",
       "    <tr>\n",
       "      <th>94</th>\n",
       "      <td>20181119</td>\n",
       "      <td>0.832517</td>\n",
       "      <td>0.522416</td>\n",
       "      <td>0.808450</td>\n",
       "      <td>0.642333</td>\n",
       "    </tr>\n",
       "    <tr>\n",
       "      <th>129</th>\n",
       "      <td>20181126</td>\n",
       "      <td>0.831863</td>\n",
       "      <td>0.522253</td>\n",
       "      <td>0.809217</td>\n",
       "      <td>0.638037</td>\n",
       "    </tr>\n",
       "    <tr>\n",
       "      <th>...</th>\n",
       "      <td>...</td>\n",
       "      <td>...</td>\n",
       "      <td>...</td>\n",
       "      <td>...</td>\n",
       "      <td>...</td>\n",
       "    </tr>\n",
       "    <tr>\n",
       "      <th>2633</th>\n",
       "      <td>20200817</td>\n",
       "      <td>0.835696</td>\n",
       "      <td>0.571625</td>\n",
       "      <td>0.835187</td>\n",
       "      <td>0.694960</td>\n",
       "    </tr>\n",
       "    <tr>\n",
       "      <th>2681</th>\n",
       "      <td>20200824</td>\n",
       "      <td>0.853237</td>\n",
       "      <td>0.595931</td>\n",
       "      <td>0.851268</td>\n",
       "      <td>0.731337</td>\n",
       "    </tr>\n",
       "    <tr>\n",
       "      <th>2688</th>\n",
       "      <td>20200831</td>\n",
       "      <td>0.858467</td>\n",
       "      <td>0.600633</td>\n",
       "      <td>0.850167</td>\n",
       "      <td>0.724018</td>\n",
       "    </tr>\n",
       "    <tr>\n",
       "      <th>2733</th>\n",
       "      <td>20200907</td>\n",
       "      <td>0.855593</td>\n",
       "      <td>0.595038</td>\n",
       "      <td>0.841622</td>\n",
       "      <td>0.703672</td>\n",
       "    </tr>\n",
       "    <tr>\n",
       "      <th>2744</th>\n",
       "      <td>20200914</td>\n",
       "      <td>0.849636</td>\n",
       "      <td>0.575621</td>\n",
       "      <td>0.835069</td>\n",
       "      <td>0.681273</td>\n",
       "    </tr>\n",
       "  </tbody>\n",
       "</table>\n",
       "<p>99 rows × 5 columns</p>\n",
       "</div>"
      ],
      "text/plain": [
       "            dt  normal_night  normal_day  end_night   end_day\n",
       "4     20181029      0.830302    0.514864   0.801207  0.610308\n",
       "39    20181105      0.831570    0.520444   0.806157  0.624302\n",
       "80    20181112      0.831380    0.520392   0.803020  0.621397\n",
       "94    20181119      0.832517    0.522416   0.808450  0.642333\n",
       "129   20181126      0.831863    0.522253   0.809217  0.638037\n",
       "...        ...           ...         ...        ...       ...\n",
       "2633  20200817      0.835696    0.571625   0.835187  0.694960\n",
       "2681  20200824      0.853237    0.595931   0.851268  0.731337\n",
       "2688  20200831      0.858467    0.600633   0.850167  0.724018\n",
       "2733  20200907      0.855593    0.595038   0.841622  0.703672\n",
       "2744  20200914      0.849636    0.575621   0.835069  0.681273\n",
       "\n",
       "[99 rows x 5 columns]"
      ]
     },
     "execution_count": 7,
     "metadata": {},
     "output_type": "execute_result"
    }
   ],
   "source": [
    "home_weekly.columns = ['dt', 'normal_night', 'normal_day', 'end_night', 'end_day']\n",
    "home_weekly"
   ]
  },
  {
   "cell_type": "markdown",
   "metadata": {},
   "source": [
    "## dt열 자료형 변경"
   ]
  },
  {
   "cell_type": "code",
   "execution_count": 8,
   "metadata": {},
   "outputs": [
    {
     "data": {
      "text/html": [
       "<div>\n",
       "<style scoped>\n",
       "    .dataframe tbody tr th:only-of-type {\n",
       "        vertical-align: middle;\n",
       "    }\n",
       "\n",
       "    .dataframe tbody tr th {\n",
       "        vertical-align: top;\n",
       "    }\n",
       "\n",
       "    .dataframe thead th {\n",
       "        text-align: right;\n",
       "    }\n",
       "</style>\n",
       "<table border=\"1\" class=\"dataframe\">\n",
       "  <thead>\n",
       "    <tr style=\"text-align: right;\">\n",
       "      <th></th>\n",
       "      <th>dt</th>\n",
       "      <th>normal_night</th>\n",
       "      <th>normal_day</th>\n",
       "      <th>end_night</th>\n",
       "      <th>end_day</th>\n",
       "    </tr>\n",
       "  </thead>\n",
       "  <tbody>\n",
       "    <tr>\n",
       "      <th>4</th>\n",
       "      <td>2018-10-29</td>\n",
       "      <td>0.830302</td>\n",
       "      <td>0.514864</td>\n",
       "      <td>0.801207</td>\n",
       "      <td>0.610308</td>\n",
       "    </tr>\n",
       "    <tr>\n",
       "      <th>39</th>\n",
       "      <td>2018-11-05</td>\n",
       "      <td>0.831570</td>\n",
       "      <td>0.520444</td>\n",
       "      <td>0.806157</td>\n",
       "      <td>0.624302</td>\n",
       "    </tr>\n",
       "    <tr>\n",
       "      <th>80</th>\n",
       "      <td>2018-11-12</td>\n",
       "      <td>0.831380</td>\n",
       "      <td>0.520392</td>\n",
       "      <td>0.803020</td>\n",
       "      <td>0.621397</td>\n",
       "    </tr>\n",
       "    <tr>\n",
       "      <th>94</th>\n",
       "      <td>2018-11-19</td>\n",
       "      <td>0.832517</td>\n",
       "      <td>0.522416</td>\n",
       "      <td>0.808450</td>\n",
       "      <td>0.642333</td>\n",
       "    </tr>\n",
       "    <tr>\n",
       "      <th>129</th>\n",
       "      <td>2018-11-26</td>\n",
       "      <td>0.831863</td>\n",
       "      <td>0.522253</td>\n",
       "      <td>0.809217</td>\n",
       "      <td>0.638037</td>\n",
       "    </tr>\n",
       "    <tr>\n",
       "      <th>...</th>\n",
       "      <td>...</td>\n",
       "      <td>...</td>\n",
       "      <td>...</td>\n",
       "      <td>...</td>\n",
       "      <td>...</td>\n",
       "    </tr>\n",
       "    <tr>\n",
       "      <th>2633</th>\n",
       "      <td>2020-08-17</td>\n",
       "      <td>0.835696</td>\n",
       "      <td>0.571625</td>\n",
       "      <td>0.835187</td>\n",
       "      <td>0.694960</td>\n",
       "    </tr>\n",
       "    <tr>\n",
       "      <th>2681</th>\n",
       "      <td>2020-08-24</td>\n",
       "      <td>0.853237</td>\n",
       "      <td>0.595931</td>\n",
       "      <td>0.851268</td>\n",
       "      <td>0.731337</td>\n",
       "    </tr>\n",
       "    <tr>\n",
       "      <th>2688</th>\n",
       "      <td>2020-08-31</td>\n",
       "      <td>0.858467</td>\n",
       "      <td>0.600633</td>\n",
       "      <td>0.850167</td>\n",
       "      <td>0.724018</td>\n",
       "    </tr>\n",
       "    <tr>\n",
       "      <th>2733</th>\n",
       "      <td>2020-09-07</td>\n",
       "      <td>0.855593</td>\n",
       "      <td>0.595038</td>\n",
       "      <td>0.841622</td>\n",
       "      <td>0.703672</td>\n",
       "    </tr>\n",
       "    <tr>\n",
       "      <th>2744</th>\n",
       "      <td>2020-09-14</td>\n",
       "      <td>0.849636</td>\n",
       "      <td>0.575621</td>\n",
       "      <td>0.835069</td>\n",
       "      <td>0.681273</td>\n",
       "    </tr>\n",
       "  </tbody>\n",
       "</table>\n",
       "<p>99 rows × 5 columns</p>\n",
       "</div>"
      ],
      "text/plain": [
       "             dt  normal_night  normal_day  end_night   end_day\n",
       "4    2018-10-29      0.830302    0.514864   0.801207  0.610308\n",
       "39   2018-11-05      0.831570    0.520444   0.806157  0.624302\n",
       "80   2018-11-12      0.831380    0.520392   0.803020  0.621397\n",
       "94   2018-11-19      0.832517    0.522416   0.808450  0.642333\n",
       "129  2018-11-26      0.831863    0.522253   0.809217  0.638037\n",
       "...         ...           ...         ...        ...       ...\n",
       "2633 2020-08-17      0.835696    0.571625   0.835187  0.694960\n",
       "2681 2020-08-24      0.853237    0.595931   0.851268  0.731337\n",
       "2688 2020-08-31      0.858467    0.600633   0.850167  0.724018\n",
       "2733 2020-09-07      0.855593    0.595038   0.841622  0.703672\n",
       "2744 2020-09-14      0.849636    0.575621   0.835069  0.681273\n",
       "\n",
       "[99 rows x 5 columns]"
      ]
     },
     "execution_count": 8,
     "metadata": {},
     "output_type": "execute_result"
    }
   ],
   "source": [
    "home_weekly['dt'] = pd.to_datetime(home_weekly['dt'], format = '%Y%m%d')\n",
    "home_weekly"
   ]
  },
  {
   "cell_type": "markdown",
   "metadata": {},
   "source": [
    "## index 재설정"
   ]
  },
  {
   "cell_type": "code",
   "execution_count": 9,
   "metadata": {},
   "outputs": [
    {
     "data": {
      "text/html": [
       "<div>\n",
       "<style scoped>\n",
       "    .dataframe tbody tr th:only-of-type {\n",
       "        vertical-align: middle;\n",
       "    }\n",
       "\n",
       "    .dataframe tbody tr th {\n",
       "        vertical-align: top;\n",
       "    }\n",
       "\n",
       "    .dataframe thead th {\n",
       "        text-align: right;\n",
       "    }\n",
       "</style>\n",
       "<table border=\"1\" class=\"dataframe\">\n",
       "  <thead>\n",
       "    <tr style=\"text-align: right;\">\n",
       "      <th></th>\n",
       "      <th>dt</th>\n",
       "      <th>normal_night</th>\n",
       "      <th>normal_day</th>\n",
       "      <th>end_night</th>\n",
       "      <th>end_day</th>\n",
       "    </tr>\n",
       "  </thead>\n",
       "  <tbody>\n",
       "    <tr>\n",
       "      <th>0</th>\n",
       "      <td>2018-10-29</td>\n",
       "      <td>0.830302</td>\n",
       "      <td>0.514864</td>\n",
       "      <td>0.801207</td>\n",
       "      <td>0.610308</td>\n",
       "    </tr>\n",
       "    <tr>\n",
       "      <th>1</th>\n",
       "      <td>2018-11-05</td>\n",
       "      <td>0.831570</td>\n",
       "      <td>0.520444</td>\n",
       "      <td>0.806157</td>\n",
       "      <td>0.624302</td>\n",
       "    </tr>\n",
       "    <tr>\n",
       "      <th>2</th>\n",
       "      <td>2018-11-12</td>\n",
       "      <td>0.831380</td>\n",
       "      <td>0.520392</td>\n",
       "      <td>0.803020</td>\n",
       "      <td>0.621397</td>\n",
       "    </tr>\n",
       "    <tr>\n",
       "      <th>3</th>\n",
       "      <td>2018-11-19</td>\n",
       "      <td>0.832517</td>\n",
       "      <td>0.522416</td>\n",
       "      <td>0.808450</td>\n",
       "      <td>0.642333</td>\n",
       "    </tr>\n",
       "    <tr>\n",
       "      <th>4</th>\n",
       "      <td>2018-11-26</td>\n",
       "      <td>0.831863</td>\n",
       "      <td>0.522253</td>\n",
       "      <td>0.809217</td>\n",
       "      <td>0.638037</td>\n",
       "    </tr>\n",
       "    <tr>\n",
       "      <th>...</th>\n",
       "      <td>...</td>\n",
       "      <td>...</td>\n",
       "      <td>...</td>\n",
       "      <td>...</td>\n",
       "      <td>...</td>\n",
       "    </tr>\n",
       "    <tr>\n",
       "      <th>94</th>\n",
       "      <td>2020-08-17</td>\n",
       "      <td>0.835696</td>\n",
       "      <td>0.571625</td>\n",
       "      <td>0.835187</td>\n",
       "      <td>0.694960</td>\n",
       "    </tr>\n",
       "    <tr>\n",
       "      <th>95</th>\n",
       "      <td>2020-08-24</td>\n",
       "      <td>0.853237</td>\n",
       "      <td>0.595931</td>\n",
       "      <td>0.851268</td>\n",
       "      <td>0.731337</td>\n",
       "    </tr>\n",
       "    <tr>\n",
       "      <th>96</th>\n",
       "      <td>2020-08-31</td>\n",
       "      <td>0.858467</td>\n",
       "      <td>0.600633</td>\n",
       "      <td>0.850167</td>\n",
       "      <td>0.724018</td>\n",
       "    </tr>\n",
       "    <tr>\n",
       "      <th>97</th>\n",
       "      <td>2020-09-07</td>\n",
       "      <td>0.855593</td>\n",
       "      <td>0.595038</td>\n",
       "      <td>0.841622</td>\n",
       "      <td>0.703672</td>\n",
       "    </tr>\n",
       "    <tr>\n",
       "      <th>98</th>\n",
       "      <td>2020-09-14</td>\n",
       "      <td>0.849636</td>\n",
       "      <td>0.575621</td>\n",
       "      <td>0.835069</td>\n",
       "      <td>0.681273</td>\n",
       "    </tr>\n",
       "  </tbody>\n",
       "</table>\n",
       "<p>99 rows × 5 columns</p>\n",
       "</div>"
      ],
      "text/plain": [
       "           dt  normal_night  normal_day  end_night   end_day\n",
       "0  2018-10-29      0.830302    0.514864   0.801207  0.610308\n",
       "1  2018-11-05      0.831570    0.520444   0.806157  0.624302\n",
       "2  2018-11-12      0.831380    0.520392   0.803020  0.621397\n",
       "3  2018-11-19      0.832517    0.522416   0.808450  0.642333\n",
       "4  2018-11-26      0.831863    0.522253   0.809217  0.638037\n",
       "..        ...           ...         ...        ...       ...\n",
       "94 2020-08-17      0.835696    0.571625   0.835187  0.694960\n",
       "95 2020-08-24      0.853237    0.595931   0.851268  0.731337\n",
       "96 2020-08-31      0.858467    0.600633   0.850167  0.724018\n",
       "97 2020-09-07      0.855593    0.595038   0.841622  0.703672\n",
       "98 2020-09-14      0.849636    0.575621   0.835069  0.681273\n",
       "\n",
       "[99 rows x 5 columns]"
      ]
     },
     "execution_count": 9,
     "metadata": {},
     "output_type": "execute_result"
    }
   ],
   "source": [
    "home_weekly = home_weekly.sort_values(['dt'], ascending = True)\n",
    "home_weekly = home_weekly.reset_index()\n",
    "home_weekly = home_weekly.drop(['index'], axis = 1)\n",
    "home_weekly"
   ]
  },
  {
   "cell_type": "markdown",
   "metadata": {},
   "source": [
    "## '주단위 재택지수 평균'열 추가"
   ]
  },
  {
   "cell_type": "code",
   "execution_count": 10,
   "metadata": {
    "tags": []
   },
   "outputs": [
    {
     "data": {
      "text/html": [
       "<div>\n",
       "<style scoped>\n",
       "    .dataframe tbody tr th:only-of-type {\n",
       "        vertical-align: middle;\n",
       "    }\n",
       "\n",
       "    .dataframe tbody tr th {\n",
       "        vertical-align: top;\n",
       "    }\n",
       "\n",
       "    .dataframe thead th {\n",
       "        text-align: right;\n",
       "    }\n",
       "</style>\n",
       "<table border=\"1\" class=\"dataframe\">\n",
       "  <thead>\n",
       "    <tr style=\"text-align: right;\">\n",
       "      <th></th>\n",
       "      <th>dt</th>\n",
       "      <th>normal_night</th>\n",
       "      <th>normal_day</th>\n",
       "      <th>end_night</th>\n",
       "      <th>end_day</th>\n",
       "      <th>week_avg</th>\n",
       "    </tr>\n",
       "  </thead>\n",
       "  <tbody>\n",
       "    <tr>\n",
       "      <th>0</th>\n",
       "      <td>2018-10-29</td>\n",
       "      <td>0.830302</td>\n",
       "      <td>0.514864</td>\n",
       "      <td>0.801207</td>\n",
       "      <td>0.610308</td>\n",
       "      <td>0.689170</td>\n",
       "    </tr>\n",
       "    <tr>\n",
       "      <th>1</th>\n",
       "      <td>2018-11-05</td>\n",
       "      <td>0.831570</td>\n",
       "      <td>0.520444</td>\n",
       "      <td>0.806157</td>\n",
       "      <td>0.624302</td>\n",
       "      <td>0.695618</td>\n",
       "    </tr>\n",
       "    <tr>\n",
       "      <th>2</th>\n",
       "      <td>2018-11-12</td>\n",
       "      <td>0.831380</td>\n",
       "      <td>0.520392</td>\n",
       "      <td>0.803020</td>\n",
       "      <td>0.621397</td>\n",
       "      <td>0.694047</td>\n",
       "    </tr>\n",
       "    <tr>\n",
       "      <th>3</th>\n",
       "      <td>2018-11-19</td>\n",
       "      <td>0.832517</td>\n",
       "      <td>0.522416</td>\n",
       "      <td>0.808450</td>\n",
       "      <td>0.642333</td>\n",
       "      <td>0.701429</td>\n",
       "    </tr>\n",
       "    <tr>\n",
       "      <th>4</th>\n",
       "      <td>2018-11-26</td>\n",
       "      <td>0.831863</td>\n",
       "      <td>0.522253</td>\n",
       "      <td>0.809217</td>\n",
       "      <td>0.638037</td>\n",
       "      <td>0.700342</td>\n",
       "    </tr>\n",
       "    <tr>\n",
       "      <th>...</th>\n",
       "      <td>...</td>\n",
       "      <td>...</td>\n",
       "      <td>...</td>\n",
       "      <td>...</td>\n",
       "      <td>...</td>\n",
       "      <td>...</td>\n",
       "    </tr>\n",
       "    <tr>\n",
       "      <th>94</th>\n",
       "      <td>2020-08-17</td>\n",
       "      <td>0.835696</td>\n",
       "      <td>0.571625</td>\n",
       "      <td>0.835187</td>\n",
       "      <td>0.694960</td>\n",
       "      <td>0.734367</td>\n",
       "    </tr>\n",
       "    <tr>\n",
       "      <th>95</th>\n",
       "      <td>2020-08-24</td>\n",
       "      <td>0.853237</td>\n",
       "      <td>0.595931</td>\n",
       "      <td>0.851268</td>\n",
       "      <td>0.731337</td>\n",
       "      <td>0.757943</td>\n",
       "    </tr>\n",
       "    <tr>\n",
       "      <th>96</th>\n",
       "      <td>2020-08-31</td>\n",
       "      <td>0.858467</td>\n",
       "      <td>0.600633</td>\n",
       "      <td>0.850167</td>\n",
       "      <td>0.724018</td>\n",
       "      <td>0.758321</td>\n",
       "    </tr>\n",
       "    <tr>\n",
       "      <th>97</th>\n",
       "      <td>2020-09-07</td>\n",
       "      <td>0.855593</td>\n",
       "      <td>0.595038</td>\n",
       "      <td>0.841622</td>\n",
       "      <td>0.703672</td>\n",
       "      <td>0.748981</td>\n",
       "    </tr>\n",
       "    <tr>\n",
       "      <th>98</th>\n",
       "      <td>2020-09-14</td>\n",
       "      <td>0.849636</td>\n",
       "      <td>0.575621</td>\n",
       "      <td>0.835069</td>\n",
       "      <td>0.681273</td>\n",
       "      <td>0.735400</td>\n",
       "    </tr>\n",
       "  </tbody>\n",
       "</table>\n",
       "<p>99 rows × 6 columns</p>\n",
       "</div>"
      ],
      "text/plain": [
       "           dt  normal_night  normal_day  end_night   end_day  week_avg\n",
       "0  2018-10-29      0.830302    0.514864   0.801207  0.610308  0.689170\n",
       "1  2018-11-05      0.831570    0.520444   0.806157  0.624302  0.695618\n",
       "2  2018-11-12      0.831380    0.520392   0.803020  0.621397  0.694047\n",
       "3  2018-11-19      0.832517    0.522416   0.808450  0.642333  0.701429\n",
       "4  2018-11-26      0.831863    0.522253   0.809217  0.638037  0.700342\n",
       "..        ...           ...         ...        ...       ...       ...\n",
       "94 2020-08-17      0.835696    0.571625   0.835187  0.694960  0.734367\n",
       "95 2020-08-24      0.853237    0.595931   0.851268  0.731337  0.757943\n",
       "96 2020-08-31      0.858467    0.600633   0.850167  0.724018  0.758321\n",
       "97 2020-09-07      0.855593    0.595038   0.841622  0.703672  0.748981\n",
       "98 2020-09-14      0.849636    0.575621   0.835069  0.681273  0.735400\n",
       "\n",
       "[99 rows x 6 columns]"
      ]
     },
     "execution_count": 10,
     "metadata": {},
     "output_type": "execute_result"
    }
   ],
   "source": [
    "home_weekly['week_avg'] = home_weekly.mean(axis = 1)\n",
    "home_weekly"
   ]
  },
  {
   "cell_type": "markdown",
   "metadata": {},
   "source": [
    "## '주'열과 '월'열 추가"
   ]
  },
  {
   "cell_type": "code",
   "execution_count": 11,
   "metadata": {},
   "outputs": [
    {
     "data": {
      "text/html": [
       "<div>\n",
       "<style scoped>\n",
       "    .dataframe tbody tr th:only-of-type {\n",
       "        vertical-align: middle;\n",
       "    }\n",
       "\n",
       "    .dataframe tbody tr th {\n",
       "        vertical-align: top;\n",
       "    }\n",
       "\n",
       "    .dataframe thead th {\n",
       "        text-align: right;\n",
       "    }\n",
       "</style>\n",
       "<table border=\"1\" class=\"dataframe\">\n",
       "  <thead>\n",
       "    <tr style=\"text-align: right;\">\n",
       "      <th></th>\n",
       "      <th>dt</th>\n",
       "      <th>month</th>\n",
       "      <th>week</th>\n",
       "      <th>week_avg</th>\n",
       "      <th>normal_night</th>\n",
       "      <th>normal_day</th>\n",
       "      <th>end_night</th>\n",
       "      <th>end_day</th>\n",
       "    </tr>\n",
       "  </thead>\n",
       "  <tbody>\n",
       "    <tr>\n",
       "      <th>0</th>\n",
       "      <td>2018-10-29</td>\n",
       "      <td>10</td>\n",
       "      <td>44</td>\n",
       "      <td>0.689170</td>\n",
       "      <td>0.830302</td>\n",
       "      <td>0.514864</td>\n",
       "      <td>0.801207</td>\n",
       "      <td>0.610308</td>\n",
       "    </tr>\n",
       "    <tr>\n",
       "      <th>1</th>\n",
       "      <td>2018-11-05</td>\n",
       "      <td>11</td>\n",
       "      <td>45</td>\n",
       "      <td>0.695618</td>\n",
       "      <td>0.831570</td>\n",
       "      <td>0.520444</td>\n",
       "      <td>0.806157</td>\n",
       "      <td>0.624302</td>\n",
       "    </tr>\n",
       "    <tr>\n",
       "      <th>2</th>\n",
       "      <td>2018-11-12</td>\n",
       "      <td>11</td>\n",
       "      <td>46</td>\n",
       "      <td>0.694047</td>\n",
       "      <td>0.831380</td>\n",
       "      <td>0.520392</td>\n",
       "      <td>0.803020</td>\n",
       "      <td>0.621397</td>\n",
       "    </tr>\n",
       "    <tr>\n",
       "      <th>3</th>\n",
       "      <td>2018-11-19</td>\n",
       "      <td>11</td>\n",
       "      <td>47</td>\n",
       "      <td>0.701429</td>\n",
       "      <td>0.832517</td>\n",
       "      <td>0.522416</td>\n",
       "      <td>0.808450</td>\n",
       "      <td>0.642333</td>\n",
       "    </tr>\n",
       "    <tr>\n",
       "      <th>4</th>\n",
       "      <td>2018-11-26</td>\n",
       "      <td>11</td>\n",
       "      <td>48</td>\n",
       "      <td>0.700342</td>\n",
       "      <td>0.831863</td>\n",
       "      <td>0.522253</td>\n",
       "      <td>0.809217</td>\n",
       "      <td>0.638037</td>\n",
       "    </tr>\n",
       "    <tr>\n",
       "      <th>...</th>\n",
       "      <td>...</td>\n",
       "      <td>...</td>\n",
       "      <td>...</td>\n",
       "      <td>...</td>\n",
       "      <td>...</td>\n",
       "      <td>...</td>\n",
       "      <td>...</td>\n",
       "      <td>...</td>\n",
       "    </tr>\n",
       "    <tr>\n",
       "      <th>94</th>\n",
       "      <td>2020-08-17</td>\n",
       "      <td>8</td>\n",
       "      <td>34</td>\n",
       "      <td>0.734367</td>\n",
       "      <td>0.835696</td>\n",
       "      <td>0.571625</td>\n",
       "      <td>0.835187</td>\n",
       "      <td>0.694960</td>\n",
       "    </tr>\n",
       "    <tr>\n",
       "      <th>95</th>\n",
       "      <td>2020-08-24</td>\n",
       "      <td>8</td>\n",
       "      <td>35</td>\n",
       "      <td>0.757943</td>\n",
       "      <td>0.853237</td>\n",
       "      <td>0.595931</td>\n",
       "      <td>0.851268</td>\n",
       "      <td>0.731337</td>\n",
       "    </tr>\n",
       "    <tr>\n",
       "      <th>96</th>\n",
       "      <td>2020-08-31</td>\n",
       "      <td>8</td>\n",
       "      <td>36</td>\n",
       "      <td>0.758321</td>\n",
       "      <td>0.858467</td>\n",
       "      <td>0.600633</td>\n",
       "      <td>0.850167</td>\n",
       "      <td>0.724018</td>\n",
       "    </tr>\n",
       "    <tr>\n",
       "      <th>97</th>\n",
       "      <td>2020-09-07</td>\n",
       "      <td>9</td>\n",
       "      <td>37</td>\n",
       "      <td>0.748981</td>\n",
       "      <td>0.855593</td>\n",
       "      <td>0.595038</td>\n",
       "      <td>0.841622</td>\n",
       "      <td>0.703672</td>\n",
       "    </tr>\n",
       "    <tr>\n",
       "      <th>98</th>\n",
       "      <td>2020-09-14</td>\n",
       "      <td>9</td>\n",
       "      <td>38</td>\n",
       "      <td>0.735400</td>\n",
       "      <td>0.849636</td>\n",
       "      <td>0.575621</td>\n",
       "      <td>0.835069</td>\n",
       "      <td>0.681273</td>\n",
       "    </tr>\n",
       "  </tbody>\n",
       "</table>\n",
       "<p>99 rows × 8 columns</p>\n",
       "</div>"
      ],
      "text/plain": [
       "           dt  month  week  week_avg  normal_night  normal_day  end_night  \\\n",
       "0  2018-10-29     10    44  0.689170      0.830302    0.514864   0.801207   \n",
       "1  2018-11-05     11    45  0.695618      0.831570    0.520444   0.806157   \n",
       "2  2018-11-12     11    46  0.694047      0.831380    0.520392   0.803020   \n",
       "3  2018-11-19     11    47  0.701429      0.832517    0.522416   0.808450   \n",
       "4  2018-11-26     11    48  0.700342      0.831863    0.522253   0.809217   \n",
       "..        ...    ...   ...       ...           ...         ...        ...   \n",
       "94 2020-08-17      8    34  0.734367      0.835696    0.571625   0.835187   \n",
       "95 2020-08-24      8    35  0.757943      0.853237    0.595931   0.851268   \n",
       "96 2020-08-31      8    36  0.758321      0.858467    0.600633   0.850167   \n",
       "97 2020-09-07      9    37  0.748981      0.855593    0.595038   0.841622   \n",
       "98 2020-09-14      9    38  0.735400      0.849636    0.575621   0.835069   \n",
       "\n",
       "     end_day  \n",
       "0   0.610308  \n",
       "1   0.624302  \n",
       "2   0.621397  \n",
       "3   0.642333  \n",
       "4   0.638037  \n",
       "..       ...  \n",
       "94  0.694960  \n",
       "95  0.731337  \n",
       "96  0.724018  \n",
       "97  0.703672  \n",
       "98  0.681273  \n",
       "\n",
       "[99 rows x 8 columns]"
      ]
     },
     "execution_count": 11,
     "metadata": {},
     "output_type": "execute_result"
    }
   ],
   "source": [
    "home_weekly['week'] = home_weekly['dt'].dt.week\n",
    "home_weekly['month'] = home_weekly['dt'].dt.month\n",
    "home_weekly= home_weekly[['dt', 'month','week', 'week_avg','normal_night', 'normal_day', 'end_night', 'end_day']]\n",
    "home_weekly"
   ]
  },
  {
   "cell_type": "markdown",
   "metadata": {},
   "source": [
    "# 연도별 자료"
   ]
  },
  {
   "cell_type": "markdown",
   "metadata": {},
   "source": [
    "## 연도별로 보기"
   ]
  },
  {
   "cell_type": "code",
   "execution_count": 12,
   "metadata": {},
   "outputs": [
    {
     "data": {
      "text/html": [
       "<div>\n",
       "<style scoped>\n",
       "    .dataframe tbody tr th:only-of-type {\n",
       "        vertical-align: middle;\n",
       "    }\n",
       "\n",
       "    .dataframe tbody tr th {\n",
       "        vertical-align: top;\n",
       "    }\n",
       "\n",
       "    .dataframe thead th {\n",
       "        text-align: right;\n",
       "    }\n",
       "</style>\n",
       "<table border=\"1\" class=\"dataframe\">\n",
       "  <thead>\n",
       "    <tr style=\"text-align: right;\">\n",
       "      <th></th>\n",
       "      <th>dt</th>\n",
       "      <th>month</th>\n",
       "      <th>week</th>\n",
       "      <th>week_avg</th>\n",
       "      <th>normal_night</th>\n",
       "      <th>normal_day</th>\n",
       "      <th>end_night</th>\n",
       "      <th>end_day</th>\n",
       "    </tr>\n",
       "  </thead>\n",
       "  <tbody>\n",
       "    <tr>\n",
       "      <th>0</th>\n",
       "      <td>2018-10-29</td>\n",
       "      <td>10</td>\n",
       "      <td>44</td>\n",
       "      <td>0.68917</td>\n",
       "      <td>0.830302</td>\n",
       "      <td>0.514864</td>\n",
       "      <td>0.801207</td>\n",
       "      <td>0.610308</td>\n",
       "    </tr>\n",
       "  </tbody>\n",
       "</table>\n",
       "</div>"
      ],
      "text/plain": [
       "          dt  month  week  week_avg  normal_night  normal_day  end_night  \\\n",
       "0 2018-10-29     10    44   0.68917      0.830302    0.514864   0.801207   \n",
       "\n",
       "    end_day  \n",
       "0  0.610308  "
      ]
     },
     "execution_count": 12,
     "metadata": {},
     "output_type": "execute_result"
    }
   ],
   "source": [
    "home_wkly_18 = home_weekly[home_weekly['dt'].dt.year == 2018]\n",
    "home_wkly_18.head(1)"
   ]
  },
  {
   "cell_type": "code",
   "execution_count": 13,
   "metadata": {},
   "outputs": [],
   "source": [
    "home_wkly_19 = [home_weekly['dt'].dt.year == 2019]"
   ]
  },
  {
   "cell_type": "code",
   "execution_count": 14,
   "metadata": {},
   "outputs": [
    {
     "data": {
      "text/html": [
       "<div>\n",
       "<style scoped>\n",
       "    .dataframe tbody tr th:only-of-type {\n",
       "        vertical-align: middle;\n",
       "    }\n",
       "\n",
       "    .dataframe tbody tr th {\n",
       "        vertical-align: top;\n",
       "    }\n",
       "\n",
       "    .dataframe thead th {\n",
       "        text-align: right;\n",
       "    }\n",
       "</style>\n",
       "<table border=\"1\" class=\"dataframe\">\n",
       "  <thead>\n",
       "    <tr style=\"text-align: right;\">\n",
       "      <th></th>\n",
       "      <th>dt</th>\n",
       "      <th>month</th>\n",
       "      <th>week</th>\n",
       "      <th>week_avg</th>\n",
       "      <th>normal_night</th>\n",
       "      <th>normal_day</th>\n",
       "      <th>end_night</th>\n",
       "      <th>end_day</th>\n",
       "    </tr>\n",
       "  </thead>\n",
       "  <tbody>\n",
       "    <tr>\n",
       "      <th>98</th>\n",
       "      <td>2020-09-14</td>\n",
       "      <td>9</td>\n",
       "      <td>38</td>\n",
       "      <td>0.7354</td>\n",
       "      <td>0.849636</td>\n",
       "      <td>0.575621</td>\n",
       "      <td>0.835069</td>\n",
       "      <td>0.681273</td>\n",
       "    </tr>\n",
       "  </tbody>\n",
       "</table>\n",
       "</div>"
      ],
      "text/plain": [
       "           dt  month  week  week_avg  normal_night  normal_day  end_night  \\\n",
       "98 2020-09-14      9    38    0.7354      0.849636    0.575621   0.835069   \n",
       "\n",
       "     end_day  \n",
       "98  0.681273  "
      ]
     },
     "execution_count": 14,
     "metadata": {},
     "output_type": "execute_result"
    }
   ],
   "source": [
    "home_wkly_20 = home_weekly[home_weekly['dt'].dt.year == 2020]\n",
    "home_wkly_20.tail(1)"
   ]
  },
  {
   "cell_type": "markdown",
   "metadata": {},
   "source": [
    "월요일에 전주의 평균 기록이 집계되는 듯?\\\n",
    "2019년만 1년의 모든 주에 대한 온전한 기록이 있음.\\\n",
    "2018은 10월 4번째 주부터의 기록이 있고, 2020년은 9월 2째주까지의 기록만 있음"
   ]
  },
  {
   "cell_type": "markdown",
   "metadata": {},
   "source": [
    "# 시각화"
   ]
  },
  {
   "cell_type": "code",
   "execution_count": 24,
   "metadata": {},
   "outputs": [
    {
     "data": {
      "application/vnd.plotly.v1+json": {
       "config": {
        "plotlyServerURL": "https://plot.ly"
       },
       "data": [
        {
         "hovertemplate": "variable=week_avg<br>dt=%{x}<br>value=%{y}<extra></extra>",
         "legendgroup": "week_avg",
         "line": {
          "color": "#636efa",
          "dash": "solid"
         },
         "mode": "lines",
         "name": "week_avg",
         "orientation": "v",
         "showlegend": true,
         "type": "scatter",
         "x": [
          "2018-10-29T00:00:00",
          "2018-11-05T00:00:00",
          "2018-11-12T00:00:00",
          "2018-11-19T00:00:00",
          "2018-11-26T00:00:00",
          "2018-12-03T00:00:00",
          "2018-12-10T00:00:00",
          "2018-12-17T00:00:00",
          "2018-12-24T00:00:00",
          "2018-12-31T00:00:00",
          "2019-01-07T00:00:00",
          "2019-01-14T00:00:00",
          "2019-01-21T00:00:00",
          "2019-01-28T00:00:00",
          "2019-02-04T00:00:00",
          "2019-02-11T00:00:00",
          "2019-02-18T00:00:00",
          "2019-02-25T00:00:00",
          "2019-03-04T00:00:00",
          "2019-03-11T00:00:00",
          "2019-03-18T00:00:00",
          "2019-03-25T00:00:00",
          "2019-04-01T00:00:00",
          "2019-04-08T00:00:00",
          "2019-04-15T00:00:00",
          "2019-04-22T00:00:00",
          "2019-04-29T00:00:00",
          "2019-05-06T00:00:00",
          "2019-05-13T00:00:00",
          "2019-05-20T00:00:00",
          "2019-05-27T00:00:00",
          "2019-06-03T00:00:00",
          "2019-06-10T00:00:00",
          "2019-06-17T00:00:00",
          "2019-06-24T00:00:00",
          "2019-07-01T00:00:00",
          "2019-07-08T00:00:00",
          "2019-07-15T00:00:00",
          "2019-07-22T00:00:00",
          "2019-07-29T00:00:00",
          "2019-08-05T00:00:00",
          "2019-08-12T00:00:00",
          "2019-08-19T00:00:00",
          "2019-08-26T00:00:00",
          "2019-09-02T00:00:00",
          "2019-09-09T00:00:00",
          "2019-09-16T00:00:00",
          "2019-09-23T00:00:00",
          "2019-09-30T00:00:00",
          "2019-10-07T00:00:00",
          "2019-10-14T00:00:00",
          "2019-10-21T00:00:00",
          "2019-10-28T00:00:00",
          "2019-11-04T00:00:00",
          "2019-11-11T00:00:00",
          "2019-11-18T00:00:00",
          "2019-11-25T00:00:00",
          "2019-12-02T00:00:00",
          "2019-12-09T00:00:00",
          "2019-12-16T00:00:00",
          "2019-12-23T00:00:00",
          "2019-12-30T00:00:00",
          "2020-01-06T00:00:00",
          "2020-01-13T00:00:00",
          "2020-01-20T00:00:00",
          "2020-01-27T00:00:00",
          "2020-02-03T00:00:00",
          "2020-02-10T00:00:00",
          "2020-02-17T00:00:00",
          "2020-02-24T00:00:00",
          "2020-03-02T00:00:00",
          "2020-03-09T00:00:00",
          "2020-03-16T00:00:00",
          "2020-03-23T00:00:00",
          "2020-03-30T00:00:00",
          "2020-04-06T00:00:00",
          "2020-04-13T00:00:00",
          "2020-04-20T00:00:00",
          "2020-04-27T00:00:00",
          "2020-05-04T00:00:00",
          "2020-05-11T00:00:00",
          "2020-05-18T00:00:00",
          "2020-05-25T00:00:00",
          "2020-06-01T00:00:00",
          "2020-06-08T00:00:00",
          "2020-06-15T00:00:00",
          "2020-06-22T00:00:00",
          "2020-06-29T00:00:00",
          "2020-07-06T00:00:00",
          "2020-07-13T00:00:00",
          "2020-07-20T00:00:00",
          "2020-07-27T00:00:00",
          "2020-08-03T00:00:00",
          "2020-08-10T00:00:00",
          "2020-08-17T00:00:00",
          "2020-08-24T00:00:00",
          "2020-08-31T00:00:00",
          "2020-09-07T00:00:00",
          "2020-09-14T00:00:00"
         ],
         "xaxis": "x",
         "y": [
          0.6891702002547719,
          0.6956183192717763,
          0.6940472720744731,
          0.7014287844314413,
          0.7003423091075835,
          0.7112719719003477,
          0.7055864339210347,
          0.6963658810287096,
          0.7075841742881787,
          0.7170922817421684,
          0.7101863090253006,
          0.7069582255323189,
          0.7108228319348572,
          0.7029997201225382,
          0.6900870542729705,
          0.7144335661488639,
          0.709287247662705,
          0.699365702783257,
          0.7023157397376798,
          0.7011053109211317,
          0.7034200696117656,
          0.7000392047802244,
          0.6947415781965427,
          0.6991640384631277,
          0.6962494940424544,
          0.6910544137107962,
          0.6693538028864912,
          0.6898824502845832,
          0.6987090379919307,
          0.6928947031055667,
          0.6958431936487353,
          0.6975905529256134,
          0.696065075948824,
          0.6908820045939865,
          0.6961593785247522,
          0.6925704251749342,
          0.6961456367627706,
          0.7072958215707962,
          0.6971198621414288,
          0.6729745197450884,
          0.6888805830157436,
          0.6748357138069251,
          0.6438455165179275,
          0.67495764011434,
          0.7019424076633548,
          0.6660108359296825,
          0.7162989418393378,
          0.6965161120843378,
          0.7028127347554385,
          0.7010098474814306,
          0.6944631195680959,
          0.6902924821281902,
          0.6898163281052236,
          0.6892481935641879,
          0.6954167935927419,
          0.6986330236227061,
          0.7079017026802593,
          0.7129131750509732,
          0.7103080874999517,
          0.7083014565175096,
          0.713105485640323,
          0.7234999454635277,
          0.7220068820375094,
          0.7215057479285064,
          0.6706768320211007,
          0.7406234475715536,
          0.7431978639451476,
          0.7370727820857012,
          0.7519296527457573,
          0.7771577032519383,
          0.769742932566858,
          0.7665108589887528,
          0.7591321758481437,
          0.7589945944488852,
          0.7522355424834745,
          0.7525608236975445,
          0.759783243844617,
          0.74472449279582,
          0.7237624372348649,
          0.7396583732141261,
          0.7375107749784359,
          0.7330333175948863,
          0.7279568743796722,
          0.7262681569907239,
          0.7329087437878742,
          0.7239011592856324,
          0.7249710001746784,
          0.7242414587130944,
          0.7251763113107776,
          0.7283508426732104,
          0.7302378673941976,
          0.719163336145939,
          0.7351188748731307,
          0.71191679703984,
          0.7343669863271712,
          0.7579432713280904,
          0.7583214029251923,
          0.7489812614157462,
          0.7353997172927984
         ],
         "yaxis": "y"
        }
       ],
       "layout": {
        "autosize": true,
        "legend": {
         "title": {
          "text": "variable"
         },
         "tracegroupgap": 0
        },
        "margin": {
         "t": 60
        },
        "template": {
         "data": {
          "bar": [
           {
            "error_x": {
             "color": "#2a3f5f"
            },
            "error_y": {
             "color": "#2a3f5f"
            },
            "marker": {
             "line": {
              "color": "#E5ECF6",
              "width": 0.5
             }
            },
            "type": "bar"
           }
          ],
          "barpolar": [
           {
            "marker": {
             "line": {
              "color": "#E5ECF6",
              "width": 0.5
             }
            },
            "type": "barpolar"
           }
          ],
          "carpet": [
           {
            "aaxis": {
             "endlinecolor": "#2a3f5f",
             "gridcolor": "white",
             "linecolor": "white",
             "minorgridcolor": "white",
             "startlinecolor": "#2a3f5f"
            },
            "baxis": {
             "endlinecolor": "#2a3f5f",
             "gridcolor": "white",
             "linecolor": "white",
             "minorgridcolor": "white",
             "startlinecolor": "#2a3f5f"
            },
            "type": "carpet"
           }
          ],
          "choropleth": [
           {
            "colorbar": {
             "outlinewidth": 0,
             "ticks": ""
            },
            "type": "choropleth"
           }
          ],
          "contour": [
           {
            "colorbar": {
             "outlinewidth": 0,
             "ticks": ""
            },
            "colorscale": [
             [
              0,
              "#0d0887"
             ],
             [
              0.1111111111111111,
              "#46039f"
             ],
             [
              0.2222222222222222,
              "#7201a8"
             ],
             [
              0.3333333333333333,
              "#9c179e"
             ],
             [
              0.4444444444444444,
              "#bd3786"
             ],
             [
              0.5555555555555556,
              "#d8576b"
             ],
             [
              0.6666666666666666,
              "#ed7953"
             ],
             [
              0.7777777777777778,
              "#fb9f3a"
             ],
             [
              0.8888888888888888,
              "#fdca26"
             ],
             [
              1,
              "#f0f921"
             ]
            ],
            "type": "contour"
           }
          ],
          "contourcarpet": [
           {
            "colorbar": {
             "outlinewidth": 0,
             "ticks": ""
            },
            "type": "contourcarpet"
           }
          ],
          "heatmap": [
           {
            "colorbar": {
             "outlinewidth": 0,
             "ticks": ""
            },
            "colorscale": [
             [
              0,
              "#0d0887"
             ],
             [
              0.1111111111111111,
              "#46039f"
             ],
             [
              0.2222222222222222,
              "#7201a8"
             ],
             [
              0.3333333333333333,
              "#9c179e"
             ],
             [
              0.4444444444444444,
              "#bd3786"
             ],
             [
              0.5555555555555556,
              "#d8576b"
             ],
             [
              0.6666666666666666,
              "#ed7953"
             ],
             [
              0.7777777777777778,
              "#fb9f3a"
             ],
             [
              0.8888888888888888,
              "#fdca26"
             ],
             [
              1,
              "#f0f921"
             ]
            ],
            "type": "heatmap"
           }
          ],
          "heatmapgl": [
           {
            "colorbar": {
             "outlinewidth": 0,
             "ticks": ""
            },
            "colorscale": [
             [
              0,
              "#0d0887"
             ],
             [
              0.1111111111111111,
              "#46039f"
             ],
             [
              0.2222222222222222,
              "#7201a8"
             ],
             [
              0.3333333333333333,
              "#9c179e"
             ],
             [
              0.4444444444444444,
              "#bd3786"
             ],
             [
              0.5555555555555556,
              "#d8576b"
             ],
             [
              0.6666666666666666,
              "#ed7953"
             ],
             [
              0.7777777777777778,
              "#fb9f3a"
             ],
             [
              0.8888888888888888,
              "#fdca26"
             ],
             [
              1,
              "#f0f921"
             ]
            ],
            "type": "heatmapgl"
           }
          ],
          "histogram": [
           {
            "marker": {
             "colorbar": {
              "outlinewidth": 0,
              "ticks": ""
             }
            },
            "type": "histogram"
           }
          ],
          "histogram2d": [
           {
            "colorbar": {
             "outlinewidth": 0,
             "ticks": ""
            },
            "colorscale": [
             [
              0,
              "#0d0887"
             ],
             [
              0.1111111111111111,
              "#46039f"
             ],
             [
              0.2222222222222222,
              "#7201a8"
             ],
             [
              0.3333333333333333,
              "#9c179e"
             ],
             [
              0.4444444444444444,
              "#bd3786"
             ],
             [
              0.5555555555555556,
              "#d8576b"
             ],
             [
              0.6666666666666666,
              "#ed7953"
             ],
             [
              0.7777777777777778,
              "#fb9f3a"
             ],
             [
              0.8888888888888888,
              "#fdca26"
             ],
             [
              1,
              "#f0f921"
             ]
            ],
            "type": "histogram2d"
           }
          ],
          "histogram2dcontour": [
           {
            "colorbar": {
             "outlinewidth": 0,
             "ticks": ""
            },
            "colorscale": [
             [
              0,
              "#0d0887"
             ],
             [
              0.1111111111111111,
              "#46039f"
             ],
             [
              0.2222222222222222,
              "#7201a8"
             ],
             [
              0.3333333333333333,
              "#9c179e"
             ],
             [
              0.4444444444444444,
              "#bd3786"
             ],
             [
              0.5555555555555556,
              "#d8576b"
             ],
             [
              0.6666666666666666,
              "#ed7953"
             ],
             [
              0.7777777777777778,
              "#fb9f3a"
             ],
             [
              0.8888888888888888,
              "#fdca26"
             ],
             [
              1,
              "#f0f921"
             ]
            ],
            "type": "histogram2dcontour"
           }
          ],
          "mesh3d": [
           {
            "colorbar": {
             "outlinewidth": 0,
             "ticks": ""
            },
            "type": "mesh3d"
           }
          ],
          "parcoords": [
           {
            "line": {
             "colorbar": {
              "outlinewidth": 0,
              "ticks": ""
             }
            },
            "type": "parcoords"
           }
          ],
          "pie": [
           {
            "automargin": true,
            "type": "pie"
           }
          ],
          "scatter": [
           {
            "marker": {
             "colorbar": {
              "outlinewidth": 0,
              "ticks": ""
             }
            },
            "type": "scatter"
           }
          ],
          "scatter3d": [
           {
            "line": {
             "colorbar": {
              "outlinewidth": 0,
              "ticks": ""
             }
            },
            "marker": {
             "colorbar": {
              "outlinewidth": 0,
              "ticks": ""
             }
            },
            "type": "scatter3d"
           }
          ],
          "scattercarpet": [
           {
            "marker": {
             "colorbar": {
              "outlinewidth": 0,
              "ticks": ""
             }
            },
            "type": "scattercarpet"
           }
          ],
          "scattergeo": [
           {
            "marker": {
             "colorbar": {
              "outlinewidth": 0,
              "ticks": ""
             }
            },
            "type": "scattergeo"
           }
          ],
          "scattergl": [
           {
            "marker": {
             "colorbar": {
              "outlinewidth": 0,
              "ticks": ""
             }
            },
            "type": "scattergl"
           }
          ],
          "scattermapbox": [
           {
            "marker": {
             "colorbar": {
              "outlinewidth": 0,
              "ticks": ""
             }
            },
            "type": "scattermapbox"
           }
          ],
          "scatterpolar": [
           {
            "marker": {
             "colorbar": {
              "outlinewidth": 0,
              "ticks": ""
             }
            },
            "type": "scatterpolar"
           }
          ],
          "scatterpolargl": [
           {
            "marker": {
             "colorbar": {
              "outlinewidth": 0,
              "ticks": ""
             }
            },
            "type": "scatterpolargl"
           }
          ],
          "scatterternary": [
           {
            "marker": {
             "colorbar": {
              "outlinewidth": 0,
              "ticks": ""
             }
            },
            "type": "scatterternary"
           }
          ],
          "surface": [
           {
            "colorbar": {
             "outlinewidth": 0,
             "ticks": ""
            },
            "colorscale": [
             [
              0,
              "#0d0887"
             ],
             [
              0.1111111111111111,
              "#46039f"
             ],
             [
              0.2222222222222222,
              "#7201a8"
             ],
             [
              0.3333333333333333,
              "#9c179e"
             ],
             [
              0.4444444444444444,
              "#bd3786"
             ],
             [
              0.5555555555555556,
              "#d8576b"
             ],
             [
              0.6666666666666666,
              "#ed7953"
             ],
             [
              0.7777777777777778,
              "#fb9f3a"
             ],
             [
              0.8888888888888888,
              "#fdca26"
             ],
             [
              1,
              "#f0f921"
             ]
            ],
            "type": "surface"
           }
          ],
          "table": [
           {
            "cells": {
             "fill": {
              "color": "#EBF0F8"
             },
             "line": {
              "color": "white"
             }
            },
            "header": {
             "fill": {
              "color": "#C8D4E3"
             },
             "line": {
              "color": "white"
             }
            },
            "type": "table"
           }
          ]
         },
         "layout": {
          "annotationdefaults": {
           "arrowcolor": "#2a3f5f",
           "arrowhead": 0,
           "arrowwidth": 1
          },
          "autotypenumbers": "strict",
          "coloraxis": {
           "colorbar": {
            "outlinewidth": 0,
            "ticks": ""
           }
          },
          "colorscale": {
           "diverging": [
            [
             0,
             "#8e0152"
            ],
            [
             0.1,
             "#c51b7d"
            ],
            [
             0.2,
             "#de77ae"
            ],
            [
             0.3,
             "#f1b6da"
            ],
            [
             0.4,
             "#fde0ef"
            ],
            [
             0.5,
             "#f7f7f7"
            ],
            [
             0.6,
             "#e6f5d0"
            ],
            [
             0.7,
             "#b8e186"
            ],
            [
             0.8,
             "#7fbc41"
            ],
            [
             0.9,
             "#4d9221"
            ],
            [
             1,
             "#276419"
            ]
           ],
           "sequential": [
            [
             0,
             "#0d0887"
            ],
            [
             0.1111111111111111,
             "#46039f"
            ],
            [
             0.2222222222222222,
             "#7201a8"
            ],
            [
             0.3333333333333333,
             "#9c179e"
            ],
            [
             0.4444444444444444,
             "#bd3786"
            ],
            [
             0.5555555555555556,
             "#d8576b"
            ],
            [
             0.6666666666666666,
             "#ed7953"
            ],
            [
             0.7777777777777778,
             "#fb9f3a"
            ],
            [
             0.8888888888888888,
             "#fdca26"
            ],
            [
             1,
             "#f0f921"
            ]
           ],
           "sequentialminus": [
            [
             0,
             "#0d0887"
            ],
            [
             0.1111111111111111,
             "#46039f"
            ],
            [
             0.2222222222222222,
             "#7201a8"
            ],
            [
             0.3333333333333333,
             "#9c179e"
            ],
            [
             0.4444444444444444,
             "#bd3786"
            ],
            [
             0.5555555555555556,
             "#d8576b"
            ],
            [
             0.6666666666666666,
             "#ed7953"
            ],
            [
             0.7777777777777778,
             "#fb9f3a"
            ],
            [
             0.8888888888888888,
             "#fdca26"
            ],
            [
             1,
             "#f0f921"
            ]
           ]
          },
          "colorway": [
           "#636efa",
           "#EF553B",
           "#00cc96",
           "#ab63fa",
           "#FFA15A",
           "#19d3f3",
           "#FF6692",
           "#B6E880",
           "#FF97FF",
           "#FECB52"
          ],
          "font": {
           "color": "#2a3f5f"
          },
          "geo": {
           "bgcolor": "white",
           "lakecolor": "white",
           "landcolor": "#E5ECF6",
           "showlakes": true,
           "showland": true,
           "subunitcolor": "white"
          },
          "hoverlabel": {
           "align": "left"
          },
          "hovermode": "closest",
          "mapbox": {
           "style": "light"
          },
          "paper_bgcolor": "white",
          "plot_bgcolor": "#E5ECF6",
          "polar": {
           "angularaxis": {
            "gridcolor": "white",
            "linecolor": "white",
            "ticks": ""
           },
           "bgcolor": "#E5ECF6",
           "radialaxis": {
            "gridcolor": "white",
            "linecolor": "white",
            "ticks": ""
           }
          },
          "scene": {
           "xaxis": {
            "backgroundcolor": "#E5ECF6",
            "gridcolor": "white",
            "gridwidth": 2,
            "linecolor": "white",
            "showbackground": true,
            "ticks": "",
            "zerolinecolor": "white"
           },
           "yaxis": {
            "backgroundcolor": "#E5ECF6",
            "gridcolor": "white",
            "gridwidth": 2,
            "linecolor": "white",
            "showbackground": true,
            "ticks": "",
            "zerolinecolor": "white"
           },
           "zaxis": {
            "backgroundcolor": "#E5ECF6",
            "gridcolor": "white",
            "gridwidth": 2,
            "linecolor": "white",
            "showbackground": true,
            "ticks": "",
            "zerolinecolor": "white"
           }
          },
          "shapedefaults": {
           "line": {
            "color": "#2a3f5f"
           }
          },
          "ternary": {
           "aaxis": {
            "gridcolor": "white",
            "linecolor": "white",
            "ticks": ""
           },
           "baxis": {
            "gridcolor": "white",
            "linecolor": "white",
            "ticks": ""
           },
           "bgcolor": "#E5ECF6",
           "caxis": {
            "gridcolor": "white",
            "linecolor": "white",
            "ticks": ""
           }
          },
          "title": {
           "x": 0.05
          },
          "xaxis": {
           "automargin": true,
           "gridcolor": "white",
           "linecolor": "white",
           "ticks": "",
           "title": {
            "standoff": 15
           },
           "zerolinecolor": "white",
           "zerolinewidth": 2
          },
          "yaxis": {
           "automargin": true,
           "gridcolor": "white",
           "linecolor": "white",
           "ticks": "",
           "title": {
            "standoff": 15
           },
           "zerolinecolor": "white",
           "zerolinewidth": 2
          }
         }
        },
        "xaxis": {
         "anchor": "y",
         "autorange": true,
         "domain": [
          0,
          1
         ],
         "range": [
          "2018-10-29",
          "2020-09-14"
         ],
         "title": {
          "text": "dt"
         },
         "type": "date"
        },
        "yaxis": {
         "anchor": "x",
         "autorange": true,
         "domain": [
          0,
          1
         ],
         "range": [
          0.6364392839215937,
          0.7845639358482722
         ],
         "title": {
          "text": "value"
         },
         "type": "linear"
        }
       }
      },
      "image/png": "[encoded data removed]",
      "text/html": [
       "<div>                            <div id=\"c004efb6-319c-41d9-9048-033b30b45e90\" class=\"plotly-graph-div\" style=\"height:525px; width:100%;\"></div>            <script type=\"text/javascript\">                require([\"plotly\"], function(Plotly) {                    window.PLOTLYENV=window.PLOTLYENV || {};                                    if (document.getElementById(\"c004efb6-319c-41d9-9048-033b30b45e90\")) {                    Plotly.newPlot(                        \"c004efb6-319c-41d9-9048-033b30b45e90\",                        [{\"hovertemplate\": \"variable=week_avg<br>dt=%{x}<br>value=%{y}<extra></extra>\", \"legendgroup\": \"week_avg\", \"line\": {\"color\": \"#636efa\", \"dash\": \"solid\"}, \"mode\": \"lines\", \"name\": \"week_avg\", \"orientation\": \"v\", \"showlegend\": true, \"type\": \"scatter\", \"x\": [\"2018-10-29T00:00:00\", \"2018-11-05T00:00:00\", \"2018-11-12T00:00:00\", \"2018-11-19T00:00:00\", \"2018-11-26T00:00:00\", \"2018-12-03T00:00:00\", \"2018-12-10T00:00:00\", \"2018-12-17T00:00:00\", \"2018-12-24T00:00:00\", \"2018-12-31T00:00:00\", \"2019-01-07T00:00:00\", \"2019-01-14T00:00:00\", \"2019-01-21T00:00:00\", \"2019-01-28T00:00:00\", \"2019-02-04T00:00:00\", \"2019-02-11T00:00:00\", \"2019-02-18T00:00:00\", \"2019-02-25T00:00:00\", \"2019-03-04T00:00:00\", \"2019-03-11T00:00:00\", \"2019-03-18T00:00:00\", \"2019-03-25T00:00:00\", \"2019-04-01T00:00:00\", \"2019-04-08T00:00:00\", \"2019-04-15T00:00:00\", \"2019-04-22T00:00:00\", \"2019-04-29T00:00:00\", \"2019-05-06T00:00:00\", \"2019-05-13T00:00:00\", \"2019-05-20T00:00:00\", \"2019-05-27T00:00:00\", \"2019-06-03T00:00:00\", \"2019-06-10T00:00:00\", \"2019-06-17T00:00:00\", \"2019-06-24T00:00:00\", \"2019-07-01T00:00:00\", \"2019-07-08T00:00:00\", \"2019-07-15T00:00:00\", \"2019-07-22T00:00:00\", \"2019-07-29T00:00:00\", \"2019-08-05T00:00:00\", \"2019-08-12T00:00:00\", \"2019-08-19T00:00:00\", \"2019-08-26T00:00:00\", \"2019-09-02T00:00:00\", \"2019-09-09T00:00:00\", \"2019-09-16T00:00:00\", \"2019-09-23T00:00:00\", \"2019-09-30T00:00:00\", \"2019-10-07T00:00:00\", \"2019-10-14T00:00:00\", \"2019-10-21T00:00:00\", \"2019-10-28T00:00:00\", \"2019-11-04T00:00:00\", \"2019-11-11T00:00:00\", \"2019-11-18T00:00:00\", \"2019-11-25T00:00:00\", \"2019-12-02T00:00:00\", \"2019-12-09T00:00:00\", \"2019-12-16T00:00:00\", \"2019-12-23T00:00:00\", \"2019-12-30T00:00:00\", \"2020-01-06T00:00:00\", \"2020-01-13T00:00:00\", \"2020-01-20T00:00:00\", \"2020-01-27T00:00:00\", \"2020-02-03T00:00:00\", \"2020-02-10T00:00:00\", \"2020-02-17T00:00:00\", \"2020-02-24T00:00:00\", \"2020-03-02T00:00:00\", \"2020-03-09T00:00:00\", \"2020-03-16T00:00:00\", \"2020-03-23T00:00:00\", \"2020-03-30T00:00:00\", \"2020-04-06T00:00:00\", \"2020-04-13T00:00:00\", \"2020-04-20T00:00:00\", \"2020-04-27T00:00:00\", \"2020-05-04T00:00:00\", \"2020-05-11T00:00:00\", \"2020-05-18T00:00:00\", \"2020-05-25T00:00:00\", \"2020-06-01T00:00:00\", \"2020-06-08T00:00:00\", \"2020-06-15T00:00:00\", \"2020-06-22T00:00:00\", \"2020-06-29T00:00:00\", \"2020-07-06T00:00:00\", \"2020-07-13T00:00:00\", \"2020-07-20T00:00:00\", \"2020-07-27T00:00:00\", \"2020-08-03T00:00:00\", \"2020-08-10T00:00:00\", \"2020-08-17T00:00:00\", \"2020-08-24T00:00:00\", \"2020-08-31T00:00:00\", \"2020-09-07T00:00:00\", \"2020-09-14T00:00:00\"], \"xaxis\": \"x\", \"y\": [0.6891702002547719, 0.6956183192717763, 0.6940472720744731, 0.7014287844314413, 0.7003423091075835, 0.7112719719003477, 0.7055864339210347, 0.6963658810287096, 0.7075841742881787, 0.7170922817421684, 0.7101863090253006, 0.7069582255323189, 0.7108228319348572, 0.7029997201225382, 0.6900870542729705, 0.7144335661488639, 0.709287247662705, 0.699365702783257, 0.7023157397376798, 0.7011053109211317, 0.7034200696117656, 0.7000392047802244, 0.6947415781965427, 0.6991640384631277, 0.6962494940424544, 0.6910544137107962, 0.6693538028864912, 0.6898824502845832, 0.6987090379919307, 0.6928947031055667, 0.6958431936487353, 0.6975905529256134, 0.696065075948824, 0.6908820045939865, 0.6961593785247522, 0.6925704251749342, 0.6961456367627706, 0.7072958215707962, 0.6971198621414288, 0.6729745197450884, 0.6888805830157436, 0.6748357138069251, 0.6438455165179275, 0.67495764011434, 0.7019424076633548, 0.6660108359296825, 0.7162989418393378, 0.6965161120843378, 0.7028127347554385, 0.7010098474814306, 0.6944631195680959, 0.6902924821281902, 0.6898163281052236, 0.6892481935641879, 0.6954167935927419, 0.6986330236227061, 0.7079017026802593, 0.7129131750509732, 0.7103080874999517, 0.7083014565175096, 0.713105485640323, 0.7234999454635277, 0.7220068820375094, 0.7215057479285064, 0.6706768320211007, 0.7406234475715536, 0.7431978639451476, 0.7370727820857012, 0.7519296527457573, 0.7771577032519383, 0.769742932566858, 0.7665108589887528, 0.7591321758481437, 0.7589945944488852, 0.7522355424834745, 0.7525608236975445, 0.759783243844617, 0.74472449279582, 0.7237624372348649, 0.7396583732141261, 0.7375107749784359, 0.7330333175948863, 0.7279568743796722, 0.7262681569907239, 0.7329087437878742, 0.7239011592856324, 0.7249710001746784, 0.7242414587130944, 0.7251763113107776, 0.7283508426732104, 0.7302378673941976, 0.719163336145939, 0.7351188748731307, 0.71191679703984, 0.7343669863271712, 0.7579432713280904, 0.7583214029251923, 0.7489812614157462, 0.7353997172927984], \"yaxis\": \"y\"}],                        {\"legend\": {\"title\": {\"text\": \"variable\"}, \"tracegroupgap\": 0}, \"margin\": {\"t\": 60}, \"template\": {\"data\": {\"bar\": [{\"error_x\": {\"color\": \"#2a3f5f\"}, \"error_y\": {\"color\": \"#2a3f5f\"}, \"marker\": {\"line\": {\"color\": \"#E5ECF6\", \"width\": 0.5}}, \"type\": \"bar\"}], \"barpolar\": [{\"marker\": {\"line\": {\"color\": \"#E5ECF6\", \"width\": 0.5}}, \"type\": \"barpolar\"}], \"carpet\": [{\"aaxis\": {\"endlinecolor\": \"#2a3f5f\", \"gridcolor\": \"white\", \"linecolor\": \"white\", \"minorgridcolor\": \"white\", \"startlinecolor\": \"#2a3f5f\"}, \"baxis\": {\"endlinecolor\": \"#2a3f5f\", \"gridcolor\": \"white\", \"linecolor\": \"white\", \"minorgridcolor\": \"white\", \"startlinecolor\": \"#2a3f5f\"}, \"type\": \"carpet\"}], \"choropleth\": [{\"colorbar\": {\"outlinewidth\": 0, \"ticks\": \"\"}, \"type\": \"choropleth\"}], \"contour\": [{\"colorbar\": {\"outlinewidth\": 0, \"ticks\": \"\"}, \"colorscale\": [[0.0, \"#0d0887\"], [0.1111111111111111, \"#46039f\"], [0.2222222222222222, \"#7201a8\"], [0.3333333333333333, \"#9c179e\"], [0.4444444444444444, \"#bd3786\"], [0.5555555555555556, \"#d8576b\"], [0.6666666666666666, \"#ed7953\"], [0.7777777777777778, \"#fb9f3a\"], [0.8888888888888888, \"#fdca26\"], [1.0, \"#f0f921\"]], \"type\": \"contour\"}], \"contourcarpet\": [{\"colorbar\": {\"outlinewidth\": 0, \"ticks\": \"\"}, \"type\": \"contourcarpet\"}], \"heatmap\": [{\"colorbar\": {\"outlinewidth\": 0, \"ticks\": \"\"}, \"colorscale\": [[0.0, \"#0d0887\"], [0.1111111111111111, \"#46039f\"], [0.2222222222222222, \"#7201a8\"], [0.3333333333333333, \"#9c179e\"], [0.4444444444444444, \"#bd3786\"], [0.5555555555555556, \"#d8576b\"], [0.6666666666666666, \"#ed7953\"], [0.7777777777777778, \"#fb9f3a\"], [0.8888888888888888, \"#fdca26\"], [1.0, \"#f0f921\"]], \"type\": \"heatmap\"}], \"heatmapgl\": [{\"colorbar\": {\"outlinewidth\": 0, \"ticks\": \"\"}, \"colorscale\": [[0.0, \"#0d0887\"], [0.1111111111111111, \"#46039f\"], [0.2222222222222222, \"#7201a8\"], [0.3333333333333333, \"#9c179e\"], [0.4444444444444444, \"#bd3786\"], [0.5555555555555556, \"#d8576b\"], [0.6666666666666666, \"#ed7953\"], [0.7777777777777778, \"#fb9f3a\"], [0.8888888888888888, \"#fdca26\"], [1.0, \"#f0f921\"]], \"type\": \"heatmapgl\"}], \"histogram\": [{\"marker\": {\"colorbar\": {\"outlinewidth\": 0, \"ticks\": \"\"}}, \"type\": \"histogram\"}], \"histogram2d\": [{\"colorbar\": {\"outlinewidth\": 0, \"ticks\": \"\"}, \"colorscale\": [[0.0, \"#0d0887\"], [0.1111111111111111, \"#46039f\"], [0.2222222222222222, \"#7201a8\"], [0.3333333333333333, \"#9c179e\"], [0.4444444444444444, \"#bd3786\"], [0.5555555555555556, \"#d8576b\"], [0.6666666666666666, \"#ed7953\"], [0.7777777777777778, \"#fb9f3a\"], [0.8888888888888888, \"#fdca26\"], [1.0, \"#f0f921\"]], \"type\": \"histogram2d\"}], \"histogram2dcontour\": [{\"colorbar\": {\"outlinewidth\": 0, \"ticks\": \"\"}, \"colorscale\": [[0.0, \"#0d0887\"], [0.1111111111111111, \"#46039f\"], [0.2222222222222222, \"#7201a8\"], [0.3333333333333333, \"#9c179e\"], [0.4444444444444444, \"#bd3786\"], [0.5555555555555556, \"#d8576b\"], [0.6666666666666666, \"#ed7953\"], [0.7777777777777778, \"#fb9f3a\"], [0.8888888888888888, \"#fdca26\"], [1.0, \"#f0f921\"]], \"type\": \"histogram2dcontour\"}], \"mesh3d\": [{\"colorbar\": {\"outlinewidth\": 0, \"ticks\": \"\"}, \"type\": \"mesh3d\"}], \"parcoords\": [{\"line\": {\"colorbar\": {\"outlinewidth\": 0, \"ticks\": \"\"}}, \"type\": \"parcoords\"}], \"pie\": [{\"automargin\": true, \"type\": \"pie\"}], \"scatter\": [{\"marker\": {\"colorbar\": {\"outlinewidth\": 0, \"ticks\": \"\"}}, \"type\": \"scatter\"}], \"scatter3d\": [{\"line\": {\"colorbar\": {\"outlinewidth\": 0, \"ticks\": \"\"}}, \"marker\": {\"colorbar\": {\"outlinewidth\": 0, \"ticks\": \"\"}}, \"type\": \"scatter3d\"}], \"scattercarpet\": [{\"marker\": {\"colorbar\": {\"outlinewidth\": 0, \"ticks\": \"\"}}, \"type\": \"scattercarpet\"}], \"scattergeo\": [{\"marker\": {\"colorbar\": {\"outlinewidth\": 0, \"ticks\": \"\"}}, \"type\": \"scattergeo\"}], \"scattergl\": [{\"marker\": {\"colorbar\": {\"outlinewidth\": 0, \"ticks\": \"\"}}, \"type\": \"scattergl\"}], \"scattermapbox\": [{\"marker\": {\"colorbar\": {\"outlinewidth\": 0, \"ticks\": \"\"}}, \"type\": \"scattermapbox\"}], \"scatterpolar\": [{\"marker\": {\"colorbar\": {\"outlinewidth\": 0, \"ticks\": \"\"}}, \"type\": \"scatterpolar\"}], \"scatterpolargl\": [{\"marker\": {\"colorbar\": {\"outlinewidth\": 0, \"ticks\": \"\"}}, \"type\": \"scatterpolargl\"}], \"scatterternary\": [{\"marker\": {\"colorbar\": {\"outlinewidth\": 0, \"ticks\": \"\"}}, \"type\": \"scatterternary\"}], \"surface\": [{\"colorbar\": {\"outlinewidth\": 0, \"ticks\": \"\"}, \"colorscale\": [[0.0, \"#0d0887\"], [0.1111111111111111, \"#46039f\"], [0.2222222222222222, \"#7201a8\"], [0.3333333333333333, \"#9c179e\"], [0.4444444444444444, \"#bd3786\"], [0.5555555555555556, \"#d8576b\"], [0.6666666666666666, \"#ed7953\"], [0.7777777777777778, \"#fb9f3a\"], [0.8888888888888888, \"#fdca26\"], [1.0, \"#f0f921\"]], \"type\": \"surface\"}], \"table\": [{\"cells\": {\"fill\": {\"color\": \"#EBF0F8\"}, \"line\": {\"color\": \"white\"}}, \"header\": {\"fill\": {\"color\": \"#C8D4E3\"}, \"line\": {\"color\": \"white\"}}, \"type\": \"table\"}]}, \"layout\": {\"annotationdefaults\": {\"arrowcolor\": \"#2a3f5f\", \"arrowhead\": 0, \"arrowwidth\": 1}, \"autotypenumbers\": \"strict\", \"coloraxis\": {\"colorbar\": {\"outlinewidth\": 0, \"ticks\": \"\"}}, \"colorscale\": {\"diverging\": [[0, \"#8e0152\"], [0.1, \"#c51b7d\"], [0.2, \"#de77ae\"], [0.3, \"#f1b6da\"], [0.4, \"#fde0ef\"], [0.5, \"#f7f7f7\"], [0.6, \"#e6f5d0\"], [0.7, \"#b8e186\"], [0.8, \"#7fbc41\"], [0.9, \"#4d9221\"], [1, \"#276419\"]], \"sequential\": [[0.0, \"#0d0887\"], [0.1111111111111111, \"#46039f\"], [0.2222222222222222, \"#7201a8\"], [0.3333333333333333, \"#9c179e\"], [0.4444444444444444, \"#bd3786\"], [0.5555555555555556, \"#d8576b\"], [0.6666666666666666, \"#ed7953\"], [0.7777777777777778, \"#fb9f3a\"], [0.8888888888888888, \"#fdca26\"], [1.0, \"#f0f921\"]], \"sequentialminus\": [[0.0, \"#0d0887\"], [0.1111111111111111, \"#46039f\"], [0.2222222222222222, \"#7201a8\"], [0.3333333333333333, \"#9c179e\"], [0.4444444444444444, \"#bd3786\"], [0.5555555555555556, \"#d8576b\"], [0.6666666666666666, \"#ed7953\"], [0.7777777777777778, \"#fb9f3a\"], [0.8888888888888888, \"#fdca26\"], [1.0, \"#f0f921\"]]}, \"colorway\": [\"#636efa\", \"#EF553B\", \"#00cc96\", \"#ab63fa\", \"#FFA15A\", \"#19d3f3\", \"#FF6692\", \"#B6E880\", \"#FF97FF\", \"#FECB52\"], \"font\": {\"color\": \"#2a3f5f\"}, \"geo\": {\"bgcolor\": \"white\", \"lakecolor\": \"white\", \"landcolor\": \"#E5ECF6\", \"showlakes\": true, \"showland\": true, \"subunitcolor\": \"white\"}, \"hoverlabel\": {\"align\": \"left\"}, \"hovermode\": \"closest\", \"mapbox\": {\"style\": \"light\"}, \"paper_bgcolor\": \"white\", \"plot_bgcolor\": \"#E5ECF6\", \"polar\": {\"angularaxis\": {\"gridcolor\": \"white\", \"linecolor\": \"white\", \"ticks\": \"\"}, \"bgcolor\": \"#E5ECF6\", \"radialaxis\": {\"gridcolor\": \"white\", \"linecolor\": \"white\", \"ticks\": \"\"}}, \"scene\": {\"xaxis\": {\"backgroundcolor\": \"#E5ECF6\", \"gridcolor\": \"white\", \"gridwidth\": 2, \"linecolor\": \"white\", \"showbackground\": true, \"ticks\": \"\", \"zerolinecolor\": \"white\"}, \"yaxis\": {\"backgroundcolor\": \"#E5ECF6\", \"gridcolor\": \"white\", \"gridwidth\": 2, \"linecolor\": \"white\", \"showbackground\": true, \"ticks\": \"\", \"zerolinecolor\": \"white\"}, \"zaxis\": {\"backgroundcolor\": \"#E5ECF6\", \"gridcolor\": \"white\", \"gridwidth\": 2, \"linecolor\": \"white\", \"showbackground\": true, \"ticks\": \"\", \"zerolinecolor\": \"white\"}}, \"shapedefaults\": {\"line\": {\"color\": \"#2a3f5f\"}}, \"ternary\": {\"aaxis\": {\"gridcolor\": \"white\", \"linecolor\": \"white\", \"ticks\": \"\"}, \"baxis\": {\"gridcolor\": \"white\", \"linecolor\": \"white\", \"ticks\": \"\"}, \"bgcolor\": \"#E5ECF6\", \"caxis\": {\"gridcolor\": \"white\", \"linecolor\": \"white\", \"ticks\": \"\"}}, \"title\": {\"x\": 0.05}, \"xaxis\": {\"automargin\": true, \"gridcolor\": \"white\", \"linecolor\": \"white\", \"ticks\": \"\", \"title\": {\"standoff\": 15}, \"zerolinecolor\": \"white\", \"zerolinewidth\": 2}, \"yaxis\": {\"automargin\": true, \"gridcolor\": \"white\", \"linecolor\": \"white\", \"ticks\": \"\", \"title\": {\"standoff\": 15}, \"zerolinecolor\": \"white\", \"zerolinewidth\": 2}}}, \"xaxis\": {\"anchor\": \"y\", \"domain\": [0.0, 1.0], \"title\": {\"text\": \"dt\"}}, \"yaxis\": {\"anchor\": \"x\", \"domain\": [0.0, 1.0], \"title\": {\"text\": \"value\"}}},                        {\"responsive\": true}                    ).then(function(){\n",
       "                            \n",
       "var gd = document.getElementById('c004efb6-319c-41d9-9048-033b30b45e90');\n",
       "var x = new MutationObserver(function (mutations, observer) {{\n",
       "        var display = window.getComputedStyle(gd).display;\n",
       "        if (!display || display === 'none') {{\n",
       "            console.log([gd, 'removed!']);\n",
       "            Plotly.purge(gd);\n",
       "            observer.disconnect();\n",
       "        }}\n",
       "}});\n",
       "\n",
       "// Listen for the removal of the full notebook cells\n",
       "var notebookContainer = gd.closest('#notebook-container');\n",
       "if (notebookContainer) {{\n",
       "    x.observe(notebookContainer, {childList: true});\n",
       "}}\n",
       "\n",
       "// Listen for the clearing of the current output cell\n",
       "var outputEl = gd.closest('.output');\n",
       "if (outputEl) {{\n",
       "    x.observe(outputEl, {childList: true});\n",
       "}}\n",
       "\n",
       "                        })                };                });            </script>        </div>"
      ]
     },
     "metadata": {},
     "output_type": "display_data"
    }
   ],
   "source": [
    "import pandas as pd \n",
    "pd.options.plotting.backend = 'plotly'\n",
    "\n",
    "home_weekly[['dt', 'week_avg']].groupby('dt').sum().plot()"
   ]
  }
 ],
 "metadata": {
  "kernelspec": {
   "display_name": "Python 3",
   "language": "python",
   "name": "python3"
  },
  "language_info": {
   "codemirror_mode": {
    "name": "ipython",
    "version": 3
   },
   "file_extension": ".py",
   "mimetype": "text/x-python",
   "name": "python",
   "nbconvert_exporter": "python",
   "pygments_lexer": "ipython3",
   "version": "3.8.5"
  },
  "toc-autonumbering": true,
  "toc-showcode": false,
  "toc-showmarkdowntxt": false
 },
 "nbformat": 4,
 "nbformat_minor": 4
}
